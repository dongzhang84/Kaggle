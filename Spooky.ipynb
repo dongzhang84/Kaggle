{
 "cells": [
  {
   "cell_type": "markdown",
   "metadata": {},
   "source": [
    "# Spooky Author Identification\n",
    "\n",
    "\n",
    "Kaggle Project\n",
    "\n",
    "https://www.kaggle.com/c/spooky-author-identification"
   ]
  },
  {
   "cell_type": "code",
   "execution_count": 1,
   "metadata": {},
   "outputs": [],
   "source": [
    "import pandas as pd\n",
    "import numpy as np\n",
    "import matplotlib.pyplot as plt\n",
    "import seaborn as sns"
   ]
  },
  {
   "cell_type": "code",
   "execution_count": 2,
   "metadata": {},
   "outputs": [
    {
     "name": "stderr",
     "output_type": "stream",
     "text": [
      "Using TensorFlow backend.\n"
     ]
    }
   ],
   "source": [
    "import xgboost as xgb\n",
    "from tqdm import tqdm\n",
    "from sklearn.svm import SVC\n",
    "from keras.models import Sequential\n",
    "from keras.layers.recurrent import LSTM, GRU\n",
    "from keras.layers.core import Dense, Activation, Dropout\n",
    "from keras.layers.embeddings import Embedding\n",
    "from keras.layers.normalization import BatchNormalization\n",
    "from keras.utils import np_utils\n",
    "from sklearn import preprocessing, decomposition, model_selection, metrics, pipeline\n",
    "from sklearn.model_selection import GridSearchCV\n",
    "from sklearn.feature_extraction.text import TfidfVectorizer, CountVectorizer\n",
    "from sklearn.decomposition import TruncatedSVD\n",
    "from sklearn.linear_model import LogisticRegression\n",
    "from sklearn.model_selection import train_test_split\n",
    "from sklearn.naive_bayes import MultinomialNB\n",
    "from keras.layers import GlobalMaxPooling1D, Conv1D, MaxPooling1D, Flatten, Bidirectional, SpatialDropout1D\n",
    "from keras.preprocessing import sequence, text\n",
    "from keras.callbacks import EarlyStopping\n",
    "from nltk import word_tokenize\n",
    "from nltk.corpus import stopwords\n",
    "stop_words = stopwords.words('english')"
   ]
  },
  {
   "cell_type": "code",
   "execution_count": 2,
   "metadata": {},
   "outputs": [
    {
     "name": "stdout",
     "output_type": "stream",
     "text": [
      "sample_submission.csv  test.csv               train.csv\r\n"
     ]
    }
   ],
   "source": [
    "ls data"
   ]
  },
  {
   "cell_type": "code",
   "execution_count": 3,
   "metadata": {},
   "outputs": [],
   "source": [
    "df = pd.read_csv('data/train.csv')"
   ]
  },
  {
   "cell_type": "code",
   "execution_count": 4,
   "metadata": {},
   "outputs": [
    {
     "data": {
      "text/plain": [
       "(19579, 3)"
      ]
     },
     "execution_count": 4,
     "metadata": {},
     "output_type": "execute_result"
    }
   ],
   "source": [
    "df.shape"
   ]
  },
  {
   "cell_type": "code",
   "execution_count": 5,
   "metadata": {},
   "outputs": [
    {
     "data": {
      "text/html": [
       "<div>\n",
       "<style scoped>\n",
       "    .dataframe tbody tr th:only-of-type {\n",
       "        vertical-align: middle;\n",
       "    }\n",
       "\n",
       "    .dataframe tbody tr th {\n",
       "        vertical-align: top;\n",
       "    }\n",
       "\n",
       "    .dataframe thead th {\n",
       "        text-align: right;\n",
       "    }\n",
       "</style>\n",
       "<table border=\"1\" class=\"dataframe\">\n",
       "  <thead>\n",
       "    <tr style=\"text-align: right;\">\n",
       "      <th></th>\n",
       "      <th>id</th>\n",
       "      <th>text</th>\n",
       "      <th>author</th>\n",
       "    </tr>\n",
       "  </thead>\n",
       "  <tbody>\n",
       "    <tr>\n",
       "      <th>0</th>\n",
       "      <td>id26305</td>\n",
       "      <td>This process, however, afforded me no means of...</td>\n",
       "      <td>EAP</td>\n",
       "    </tr>\n",
       "    <tr>\n",
       "      <th>1</th>\n",
       "      <td>id17569</td>\n",
       "      <td>It never once occurred to me that the fumbling...</td>\n",
       "      <td>HPL</td>\n",
       "    </tr>\n",
       "    <tr>\n",
       "      <th>2</th>\n",
       "      <td>id11008</td>\n",
       "      <td>In his left hand was a gold snuff box, from wh...</td>\n",
       "      <td>EAP</td>\n",
       "    </tr>\n",
       "    <tr>\n",
       "      <th>3</th>\n",
       "      <td>id27763</td>\n",
       "      <td>How lovely is spring As we looked from Windsor...</td>\n",
       "      <td>MWS</td>\n",
       "    </tr>\n",
       "    <tr>\n",
       "      <th>4</th>\n",
       "      <td>id12958</td>\n",
       "      <td>Finding nothing else, not even gold, the Super...</td>\n",
       "      <td>HPL</td>\n",
       "    </tr>\n",
       "  </tbody>\n",
       "</table>\n",
       "</div>"
      ],
      "text/plain": [
       "        id                                               text author\n",
       "0  id26305  This process, however, afforded me no means of...    EAP\n",
       "1  id17569  It never once occurred to me that the fumbling...    HPL\n",
       "2  id11008  In his left hand was a gold snuff box, from wh...    EAP\n",
       "3  id27763  How lovely is spring As we looked from Windsor...    MWS\n",
       "4  id12958  Finding nothing else, not even gold, the Super...    HPL"
      ]
     },
     "execution_count": 5,
     "metadata": {},
     "output_type": "execute_result"
    }
   ],
   "source": [
    "df.head()"
   ]
  },
  {
   "cell_type": "code",
   "execution_count": 6,
   "metadata": {},
   "outputs": [],
   "source": [
    "df_test = pd.read_csv('data/test.csv')"
   ]
  },
  {
   "cell_type": "code",
   "execution_count": 7,
   "metadata": {},
   "outputs": [
    {
     "data": {
      "text/plain": [
       "(8392, 2)"
      ]
     },
     "execution_count": 7,
     "metadata": {},
     "output_type": "execute_result"
    }
   ],
   "source": [
    "df_test.shape"
   ]
  },
  {
   "cell_type": "code",
   "execution_count": 8,
   "metadata": {},
   "outputs": [
    {
     "data": {
      "text/html": [
       "<div>\n",
       "<style scoped>\n",
       "    .dataframe tbody tr th:only-of-type {\n",
       "        vertical-align: middle;\n",
       "    }\n",
       "\n",
       "    .dataframe tbody tr th {\n",
       "        vertical-align: top;\n",
       "    }\n",
       "\n",
       "    .dataframe thead th {\n",
       "        text-align: right;\n",
       "    }\n",
       "</style>\n",
       "<table border=\"1\" class=\"dataframe\">\n",
       "  <thead>\n",
       "    <tr style=\"text-align: right;\">\n",
       "      <th></th>\n",
       "      <th>id</th>\n",
       "      <th>text</th>\n",
       "    </tr>\n",
       "  </thead>\n",
       "  <tbody>\n",
       "    <tr>\n",
       "      <th>0</th>\n",
       "      <td>id02310</td>\n",
       "      <td>Still, as I urged our leaving Ireland with suc...</td>\n",
       "    </tr>\n",
       "    <tr>\n",
       "      <th>1</th>\n",
       "      <td>id24541</td>\n",
       "      <td>If a fire wanted fanning, it could readily be ...</td>\n",
       "    </tr>\n",
       "    <tr>\n",
       "      <th>2</th>\n",
       "      <td>id00134</td>\n",
       "      <td>And when they had broken down the frail door t...</td>\n",
       "    </tr>\n",
       "    <tr>\n",
       "      <th>3</th>\n",
       "      <td>id27757</td>\n",
       "      <td>While I was thinking how I should possibly man...</td>\n",
       "    </tr>\n",
       "    <tr>\n",
       "      <th>4</th>\n",
       "      <td>id04081</td>\n",
       "      <td>I am not sure to what limit his knowledge may ...</td>\n",
       "    </tr>\n",
       "  </tbody>\n",
       "</table>\n",
       "</div>"
      ],
      "text/plain": [
       "        id                                               text\n",
       "0  id02310  Still, as I urged our leaving Ireland with suc...\n",
       "1  id24541  If a fire wanted fanning, it could readily be ...\n",
       "2  id00134  And when they had broken down the frail door t...\n",
       "3  id27757  While I was thinking how I should possibly man...\n",
       "4  id04081  I am not sure to what limit his knowledge may ..."
      ]
     },
     "execution_count": 8,
     "metadata": {},
     "output_type": "execute_result"
    }
   ],
   "source": [
    "df_test.head()"
   ]
  },
  {
   "cell_type": "code",
   "execution_count": 9,
   "metadata": {},
   "outputs": [
    {
     "data": {
      "text/plain": [
       "id        0\n",
       "text      0\n",
       "author    0\n",
       "dtype: int64"
      ]
     },
     "execution_count": 9,
     "metadata": {},
     "output_type": "execute_result"
    }
   ],
   "source": [
    "df.isnull().sum()"
   ]
  },
  {
   "cell_type": "code",
   "execution_count": 10,
   "metadata": {},
   "outputs": [
    {
     "data": {
      "text/plain": [
       "EAP    7900\n",
       "MWS    6044\n",
       "HPL    5635\n",
       "Name: author, dtype: int64"
      ]
     },
     "execution_count": 10,
     "metadata": {},
     "output_type": "execute_result"
    }
   ],
   "source": [
    "df.author.value_counts()"
   ]
  },
  {
   "cell_type": "markdown",
   "metadata": {},
   "source": [
    "## Test TF-IDF Model"
   ]
  },
  {
   "cell_type": "code",
   "execution_count": 11,
   "metadata": {},
   "outputs": [
    {
     "name": "stdout",
     "output_type": "stream",
     "text": [
      "              precision    recall  f1-score   support\n",
      "\n",
      "         EAP       0.82      0.85      0.83      1570\n",
      "         HPL       0.83      0.82      0.82      1071\n",
      "         MWS       0.85      0.83      0.84      1275\n",
      "\n",
      "    accuracy                           0.83      3916\n",
      "   macro avg       0.83      0.83      0.83      3916\n",
      "weighted avg       0.83      0.83      0.83      3916\n",
      "\n",
      "Accuracy:  0.832482124616956\n"
     ]
    }
   ],
   "source": [
    "from sklearn.model_selection import train_test_split\n",
    "from sklearn.pipeline import Pipeline\n",
    "from sklearn.feature_extraction.text import TfidfVectorizer\n",
    "from sklearn.feature_extraction.text import CountVectorizer\n",
    "from nltk.classify.scikitlearn import SklearnClassifier\n",
    "from sklearn.svm import LinearSVC, SVC\n",
    "from sklearn.metrics import confusion_matrix, classification_report\n",
    "from sklearn.metrics import accuracy_score\n",
    "\n",
    "X = df.text\n",
    "y = df.author\n",
    "\n",
    "X_train,X_test,y_train,y_test = train_test_split(X,y,test_size=0.2,random_state=42)\n",
    "\n",
    "\n",
    "# LinearSVC\n",
    "\n",
    "text_clf = Pipeline([('tfidf',TfidfVectorizer()),('clf',LinearSVC())])\n",
    "text_clf.fit(X_train,y_train)\n",
    "\n",
    "y_pred = text_clf.predict(X_test)\n",
    "print(classification_report(y_test,y_pred))\n",
    "print (\"Accuracy: \", accuracy_score(y_test, y_pred))"
   ]
  },
  {
   "cell_type": "code",
   "execution_count": 12,
   "metadata": {},
   "outputs": [
    {
     "name": "stdout",
     "output_type": "stream",
     "text": [
      "              precision    recall  f1-score   support\n",
      "\n",
      "         EAP       0.74      0.92      0.82      1570\n",
      "         HPL       0.93      0.67      0.78      1071\n",
      "         MWS       0.87      0.80      0.83      1275\n",
      "\n",
      "    accuracy                           0.81      3916\n",
      "   macro avg       0.84      0.80      0.81      3916\n",
      "weighted avg       0.83      0.81      0.81      3916\n",
      "\n",
      "Accuracy:  0.8146067415730337\n"
     ]
    }
   ],
   "source": [
    "# Naive Bayes\n",
    "\n",
    "text_clf = Pipeline([('tfidf',TfidfVectorizer()),('nb',MultinomialNB())])\n",
    "text_clf.fit(X_train,y_train)\n",
    "\n",
    "y_pred = text_clf.predict(X_test)\n",
    "print(classification_report(y_test,y_pred))\n",
    "print (\"Accuracy: \", accuracy_score(y_test, y_pred))"
   ]
  },
  {
   "cell_type": "code",
   "execution_count": 13,
   "metadata": {},
   "outputs": [
    {
     "name": "stderr",
     "output_type": "stream",
     "text": [
      "/Library/Frameworks/Python.framework/Versions/3.7/lib/python3.7/site-packages/sklearn/linear_model/logistic.py:432: FutureWarning: Default solver will be changed to 'lbfgs' in 0.22. Specify a solver to silence this warning.\n",
      "  FutureWarning)\n",
      "/Library/Frameworks/Python.framework/Versions/3.7/lib/python3.7/site-packages/sklearn/linear_model/logistic.py:469: FutureWarning: Default multi_class will be changed to 'auto' in 0.22. Specify the multi_class option to silence this warning.\n",
      "  \"this warning.\", FutureWarning)\n"
     ]
    },
    {
     "name": "stdout",
     "output_type": "stream",
     "text": [
      "              precision    recall  f1-score   support\n",
      "\n",
      "         EAP       0.78      0.86      0.82      1570\n",
      "         HPL       0.80      0.77      0.79      1071\n",
      "         MWS       0.86      0.78      0.82      1275\n",
      "\n",
      "    accuracy                           0.81      3916\n",
      "   macro avg       0.81      0.80      0.81      3916\n",
      "weighted avg       0.81      0.81      0.81      3916\n",
      "\n",
      "Accuracy:  0.8097548518896833\n"
     ]
    }
   ],
   "source": [
    "# Logistic Regression\n",
    "\n",
    "text_clf = Pipeline([('tfidf',TfidfVectorizer()),('lineara',LogisticRegression(C=1.0))])\n",
    "text_clf.fit(X_train,y_train)\n",
    "\n",
    "y_pred = text_clf.predict(X_test)\n",
    "print(classification_report(y_test,y_pred))\n",
    "print (\"Accuracy: \", accuracy_score(y_test, y_pred))"
   ]
  },
  {
   "cell_type": "code",
   "execution_count": 14,
   "metadata": {},
   "outputs": [
    {
     "name": "stderr",
     "output_type": "stream",
     "text": [
      "/Library/Frameworks/Python.framework/Versions/3.7/lib/python3.7/site-packages/sklearn/ensemble/forest.py:245: FutureWarning: The default value of n_estimators will change from 10 in version 0.20 to 100 in 0.22.\n",
      "  \"10 in version 0.20 to 100 in 0.22.\", FutureWarning)\n"
     ]
    },
    {
     "name": "stdout",
     "output_type": "stream",
     "text": [
      "              precision    recall  f1-score   support\n",
      "\n",
      "         EAP       0.57      0.81      0.67      1570\n",
      "         HPL       0.62      0.48      0.54      1071\n",
      "         MWS       0.71      0.47      0.57      1275\n",
      "\n",
      "    accuracy                           0.61      3916\n",
      "   macro avg       0.63      0.59      0.59      3916\n",
      "weighted avg       0.63      0.61      0.60      3916\n",
      "\n",
      "Accuracy:  0.6118488253319714\n"
     ]
    }
   ],
   "source": [
    "# Random Forest\n",
    "\n",
    "from sklearn.ensemble import RandomForestClassifier\n",
    "\n",
    "text_clf = Pipeline([('tfidf',TfidfVectorizer()),('rf',RandomForestClassifier())])\n",
    "text_clf.fit(X_train,y_train)\n",
    "\n",
    "y_pred = text_clf.predict(X_test)\n",
    "print(classification_report(y_test,y_pred))\n",
    "print (\"Accuracy: \", accuracy_score(y_test, y_pred))"
   ]
  },
  {
   "cell_type": "code",
   "execution_count": 15,
   "metadata": {},
   "outputs": [
    {
     "name": "stdout",
     "output_type": "stream",
     "text": [
      "              precision    recall  f1-score   support\n",
      "\n",
      "         EAP       0.60      0.82      0.70      1570\n",
      "         HPL       0.66      0.55      0.60      1071\n",
      "         MWS       0.74      0.51      0.60      1275\n",
      "\n",
      "    accuracy                           0.65      3916\n",
      "   macro avg       0.67      0.63      0.63      3916\n",
      "weighted avg       0.66      0.65      0.64      3916\n",
      "\n",
      "Accuracy:  0.6465781409601634\n"
     ]
    }
   ],
   "source": [
    "# XGBoost Classifier\n",
    "\n",
    "text_clf = Pipeline([('tfidf',TfidfVectorizer()),('xgb',xgb.XGBClassifier())])\n",
    "text_clf.fit(X_train,y_train)\n",
    "\n",
    "y_pred = text_clf.predict(X_test)\n",
    "print(classification_report(y_test,y_pred))\n",
    "print (\"Accuracy: \", accuracy_score(y_test, y_pred))"
   ]
  },
  {
   "cell_type": "markdown",
   "metadata": {},
   "source": [
    "LinearSVC gives the best result."
   ]
  },
  {
   "cell_type": "markdown",
   "metadata": {},
   "source": [
    "## Test CountVector"
   ]
  },
  {
   "cell_type": "code",
   "execution_count": 19,
   "metadata": {},
   "outputs": [
    {
     "name": "stdout",
     "output_type": "stream",
     "text": [
      "              precision    recall  f1-score   support\n",
      "\n",
      "         EAP       0.79      0.84      0.81      1570\n",
      "         HPL       0.82      0.76      0.79      1071\n",
      "         MWS       0.82      0.80      0.81      1275\n",
      "\n",
      "    accuracy                           0.80      3916\n",
      "   macro avg       0.81      0.80      0.80      3916\n",
      "weighted avg       0.80      0.80      0.80      3916\n",
      "\n",
      "Accuracy:  0.8038815117466803\n"
     ]
    }
   ],
   "source": [
    "X = df.text\n",
    "y = df.author\n",
    "\n",
    "X_train,X_test,y_train,y_test = train_test_split(X,y,test_size=0.2,random_state=42)\n",
    "\n",
    "text_clf = Pipeline([('vectorizer',CountVectorizer()),\n",
    "                    ('clf',LinearSVC())])\n",
    "\n",
    "text_clf.fit(X_train,y_train)\n",
    "y_pred = text_clf.predict(X_test)\n",
    "print(classification_report(y_test,y_pred))\n",
    "print (\"Accuracy: \", accuracy_score(y_test, y_pred))"
   ]
  },
  {
   "cell_type": "markdown",
   "metadata": {},
   "source": [
    "## Combine Train and Test for TF-IDF"
   ]
  },
  {
   "cell_type": "markdown",
   "metadata": {},
   "source": [
    "## Submission 1"
   ]
  },
  {
   "cell_type": "code",
   "execution_count": 16,
   "metadata": {},
   "outputs": [],
   "source": [
    "df_combine = df.text.append(df_test.text).reset_index(drop=True)\n",
    "\n",
    "vector = TfidfVectorizer()\n",
    "x_combine = vector.fit_transform(df_combine)\n",
    "X_combine = x_combine.toarray()"
   ]
  },
  {
   "cell_type": "code",
   "execution_count": 17,
   "metadata": {},
   "outputs": [
    {
     "data": {
      "text/plain": [
       "(27971,)"
      ]
     },
     "execution_count": 17,
     "metadata": {},
     "output_type": "execute_result"
    }
   ],
   "source": [
    "df_combine.shape"
   ]
  },
  {
   "cell_type": "code",
   "execution_count": 18,
   "metadata": {},
   "outputs": [
    {
     "name": "stdout",
     "output_type": "stream",
     "text": [
      "(19579, 28300)\n",
      "(19579,)\n"
     ]
    }
   ],
   "source": [
    "X_train = X_combine[:19579,]\n",
    "y_train = df.author\n",
    "print(X_train.shape)\n",
    "print(y_train.shape)"
   ]
  },
  {
   "cell_type": "code",
   "execution_count": 19,
   "metadata": {},
   "outputs": [
    {
     "name": "stderr",
     "output_type": "stream",
     "text": [
      "/Library/Frameworks/Python.framework/Versions/3.7/lib/python3.7/site-packages/sklearn/model_selection/_split.py:1978: FutureWarning: The default value of cv will change from 3 to 5 in version 0.22. Specify it explicitly to silence this warning.\n",
      "  warnings.warn(CV_WARNING, FutureWarning)\n"
     ]
    }
   ],
   "source": [
    "from sklearn.calibration import CalibratedClassifierCV, calibration_curve\n",
    "\n",
    "\n",
    "svm = LinearSVC()\n",
    "clf = CalibratedClassifierCV(svm) \n",
    "\n",
    "clf.fit(X_train, y_train)\n",
    "\n",
    "X_test = X_combine[19579:,]\n",
    "y_proba = clf.predict_proba(X_test)"
   ]
  },
  {
   "cell_type": "code",
   "execution_count": 20,
   "metadata": {},
   "outputs": [
    {
     "data": {
      "text/plain": [
       "array([[0.29637443, 0.01893782, 0.68468775],\n",
       "       [0.86554903, 0.12853329, 0.00591768],\n",
       "       [0.13378341, 0.84854837, 0.01766822],\n",
       "       ...,\n",
       "       [0.81650468, 0.07109689, 0.11239843],\n",
       "       [0.36871099, 0.01101317, 0.62027584],\n",
       "       [0.34461232, 0.6539764 , 0.00141128]])"
      ]
     },
     "execution_count": 20,
     "metadata": {},
     "output_type": "execute_result"
    }
   ],
   "source": [
    "y_proba"
   ]
  },
  {
   "cell_type": "code",
   "execution_count": 21,
   "metadata": {},
   "outputs": [
    {
     "data": {
      "text/html": [
       "<div>\n",
       "<style scoped>\n",
       "    .dataframe tbody tr th:only-of-type {\n",
       "        vertical-align: middle;\n",
       "    }\n",
       "\n",
       "    .dataframe tbody tr th {\n",
       "        vertical-align: top;\n",
       "    }\n",
       "\n",
       "    .dataframe thead th {\n",
       "        text-align: right;\n",
       "    }\n",
       "</style>\n",
       "<table border=\"1\" class=\"dataframe\">\n",
       "  <thead>\n",
       "    <tr style=\"text-align: right;\">\n",
       "      <th></th>\n",
       "      <th>id</th>\n",
       "      <th>text</th>\n",
       "      <th>EAP</th>\n",
       "      <th>HPL</th>\n",
       "      <th>MWS</th>\n",
       "    </tr>\n",
       "  </thead>\n",
       "  <tbody>\n",
       "    <tr>\n",
       "      <th>0</th>\n",
       "      <td>id02310</td>\n",
       "      <td>Still, as I urged our leaving Ireland with suc...</td>\n",
       "      <td>0.296374</td>\n",
       "      <td>0.018938</td>\n",
       "      <td>0.684688</td>\n",
       "    </tr>\n",
       "    <tr>\n",
       "      <th>1</th>\n",
       "      <td>id24541</td>\n",
       "      <td>If a fire wanted fanning, it could readily be ...</td>\n",
       "      <td>0.865549</td>\n",
       "      <td>0.128533</td>\n",
       "      <td>0.005918</td>\n",
       "    </tr>\n",
       "    <tr>\n",
       "      <th>2</th>\n",
       "      <td>id00134</td>\n",
       "      <td>And when they had broken down the frail door t...</td>\n",
       "      <td>0.133783</td>\n",
       "      <td>0.848548</td>\n",
       "      <td>0.017668</td>\n",
       "    </tr>\n",
       "    <tr>\n",
       "      <th>3</th>\n",
       "      <td>id27757</td>\n",
       "      <td>While I was thinking how I should possibly man...</td>\n",
       "      <td>0.801296</td>\n",
       "      <td>0.182296</td>\n",
       "      <td>0.016408</td>\n",
       "    </tr>\n",
       "    <tr>\n",
       "      <th>4</th>\n",
       "      <td>id04081</td>\n",
       "      <td>I am not sure to what limit his knowledge may ...</td>\n",
       "      <td>0.810728</td>\n",
       "      <td>0.033744</td>\n",
       "      <td>0.155528</td>\n",
       "    </tr>\n",
       "  </tbody>\n",
       "</table>\n",
       "</div>"
      ],
      "text/plain": [
       "        id                                               text       EAP  \\\n",
       "0  id02310  Still, as I urged our leaving Ireland with suc...  0.296374   \n",
       "1  id24541  If a fire wanted fanning, it could readily be ...  0.865549   \n",
       "2  id00134  And when they had broken down the frail door t...  0.133783   \n",
       "3  id27757  While I was thinking how I should possibly man...  0.801296   \n",
       "4  id04081  I am not sure to what limit his knowledge may ...  0.810728   \n",
       "\n",
       "        HPL       MWS  \n",
       "0  0.018938  0.684688  \n",
       "1  0.128533  0.005918  \n",
       "2  0.848548  0.017668  \n",
       "3  0.182296  0.016408  \n",
       "4  0.033744  0.155528  "
      ]
     },
     "execution_count": 21,
     "metadata": {},
     "output_type": "execute_result"
    }
   ],
   "source": [
    "df_test['EAP'] = y_proba[:, 0]\n",
    "df_test['HPL'] = y_proba[:, 1]\n",
    "df_test['MWS'] = y_proba[:, 2]\n",
    "\n",
    "df_test.head()"
   ]
  },
  {
   "cell_type": "code",
   "execution_count": 22,
   "metadata": {},
   "outputs": [],
   "source": [
    "# This is for submission\n",
    "\n",
    "df_test.drop('text', axis=1).to_csv('submission_tfidf_1.csv', index=False)"
   ]
  },
  {
   "cell_type": "markdown",
   "metadata": {},
   "source": [
    "## Submission 2"
   ]
  },
  {
   "cell_type": "code",
   "execution_count": 23,
   "metadata": {},
   "outputs": [],
   "source": [
    "tfidf = TfidfVectorizer(min_df=3,  max_features=None, \n",
    "            strip_accents='unicode', analyzer='word',token_pattern=r'\\w{1,}',\n",
    "            ngram_range=(1, 3), use_idf=1,smooth_idf=1,sublinear_tf=1,\n",
    "            stop_words = 'english')\n",
    "\n",
    "\n",
    "tfidf.fit(list(df.text) + list(df_test.text))\n",
    "x_train_tfidf =  tfidf.transform(df.text.values) \n",
    "x_test_tfidf  =  tfidf.transform(df_test.text.values)"
   ]
  },
  {
   "cell_type": "code",
   "execution_count": 27,
   "metadata": {},
   "outputs": [
    {
     "name": "stderr",
     "output_type": "stream",
     "text": [
      "/Library/Frameworks/Python.framework/Versions/3.7/lib/python3.7/site-packages/sklearn/model_selection/_split.py:1978: FutureWarning: The default value of cv will change from 3 to 5 in version 0.22. Specify it explicitly to silence this warning.\n",
      "  warnings.warn(CV_WARNING, FutureWarning)\n"
     ]
    }
   ],
   "source": [
    "svm = LinearSVC()\n",
    "clf = CalibratedClassifierCV(svm)\n",
    "\n",
    "clf.fit(x_train_tfidf, y)\n",
    "y_proba = clf.predict_proba(x_test_tfidf)\n",
    "#y_pred2 = clf.predict(x_test_tfidf)"
   ]
  },
  {
   "cell_type": "code",
   "execution_count": 28,
   "metadata": {},
   "outputs": [
    {
     "data": {
      "text/html": [
       "<div>\n",
       "<style scoped>\n",
       "    .dataframe tbody tr th:only-of-type {\n",
       "        vertical-align: middle;\n",
       "    }\n",
       "\n",
       "    .dataframe tbody tr th {\n",
       "        vertical-align: top;\n",
       "    }\n",
       "\n",
       "    .dataframe thead th {\n",
       "        text-align: right;\n",
       "    }\n",
       "</style>\n",
       "<table border=\"1\" class=\"dataframe\">\n",
       "  <thead>\n",
       "    <tr style=\"text-align: right;\">\n",
       "      <th></th>\n",
       "      <th>id</th>\n",
       "      <th>text</th>\n",
       "      <th>EAP</th>\n",
       "      <th>HPL</th>\n",
       "      <th>MWS</th>\n",
       "    </tr>\n",
       "  </thead>\n",
       "  <tbody>\n",
       "    <tr>\n",
       "      <th>0</th>\n",
       "      <td>id02310</td>\n",
       "      <td>Still, as I urged our leaving Ireland with suc...</td>\n",
       "      <td>0.270124</td>\n",
       "      <td>0.047845</td>\n",
       "      <td>0.682031</td>\n",
       "    </tr>\n",
       "    <tr>\n",
       "      <th>1</th>\n",
       "      <td>id24541</td>\n",
       "      <td>If a fire wanted fanning, it could readily be ...</td>\n",
       "      <td>0.808827</td>\n",
       "      <td>0.165783</td>\n",
       "      <td>0.025390</td>\n",
       "    </tr>\n",
       "    <tr>\n",
       "      <th>2</th>\n",
       "      <td>id00134</td>\n",
       "      <td>And when they had broken down the frail door t...</td>\n",
       "      <td>0.333336</td>\n",
       "      <td>0.642730</td>\n",
       "      <td>0.023935</td>\n",
       "    </tr>\n",
       "    <tr>\n",
       "      <th>3</th>\n",
       "      <td>id27757</td>\n",
       "      <td>While I was thinking how I should possibly man...</td>\n",
       "      <td>0.762429</td>\n",
       "      <td>0.218822</td>\n",
       "      <td>0.018749</td>\n",
       "    </tr>\n",
       "    <tr>\n",
       "      <th>4</th>\n",
       "      <td>id04081</td>\n",
       "      <td>I am not sure to what limit his knowledge may ...</td>\n",
       "      <td>0.888960</td>\n",
       "      <td>0.062379</td>\n",
       "      <td>0.048661</td>\n",
       "    </tr>\n",
       "  </tbody>\n",
       "</table>\n",
       "</div>"
      ],
      "text/plain": [
       "        id                                               text       EAP  \\\n",
       "0  id02310  Still, as I urged our leaving Ireland with suc...  0.270124   \n",
       "1  id24541  If a fire wanted fanning, it could readily be ...  0.808827   \n",
       "2  id00134  And when they had broken down the frail door t...  0.333336   \n",
       "3  id27757  While I was thinking how I should possibly man...  0.762429   \n",
       "4  id04081  I am not sure to what limit his knowledge may ...  0.888960   \n",
       "\n",
       "        HPL       MWS  \n",
       "0  0.047845  0.682031  \n",
       "1  0.165783  0.025390  \n",
       "2  0.642730  0.023935  \n",
       "3  0.218822  0.018749  \n",
       "4  0.062379  0.048661  "
      ]
     },
     "execution_count": 28,
     "metadata": {},
     "output_type": "execute_result"
    }
   ],
   "source": [
    "df_test['EAP'] = y_proba[:, 0]\n",
    "df_test['HPL'] = y_proba[:, 1]\n",
    "df_test['MWS'] = y_proba[:, 2]\n",
    "\n",
    "df_test.head()"
   ]
  },
  {
   "cell_type": "code",
   "execution_count": 29,
   "metadata": {},
   "outputs": [],
   "source": [
    "df_test.drop('text', axis=1).to_csv('submission_tfidf_2.csv', index=False)"
   ]
  },
  {
   "cell_type": "markdown",
   "metadata": {},
   "source": [
    "## Use Naive Bayes to Submit Again"
   ]
  },
  {
   "cell_type": "code",
   "execution_count": 30,
   "metadata": {},
   "outputs": [
    {
     "name": "stderr",
     "output_type": "stream",
     "text": [
      "/Library/Frameworks/Python.framework/Versions/3.7/lib/python3.7/site-packages/sklearn/model_selection/_split.py:1978: FutureWarning: The default value of cv will change from 3 to 5 in version 0.22. Specify it explicitly to silence this warning.\n",
      "  warnings.warn(CV_WARNING, FutureWarning)\n"
     ]
    }
   ],
   "source": [
    "nb = MultinomialNB()\n",
    "clf = CalibratedClassifierCV(nb)\n",
    "\n",
    "X_train = X_combine[:19579,]\n",
    "y_train = df.author\n",
    "\n",
    "clf.fit(X_train, y_train)\n",
    "X_test = X_combine[19579:,]\n",
    "y_proba = clf.predict_proba(X_test)"
   ]
  },
  {
   "cell_type": "code",
   "execution_count": 31,
   "metadata": {},
   "outputs": [
    {
     "data": {
      "text/html": [
       "<div>\n",
       "<style scoped>\n",
       "    .dataframe tbody tr th:only-of-type {\n",
       "        vertical-align: middle;\n",
       "    }\n",
       "\n",
       "    .dataframe tbody tr th {\n",
       "        vertical-align: top;\n",
       "    }\n",
       "\n",
       "    .dataframe thead th {\n",
       "        text-align: right;\n",
       "    }\n",
       "</style>\n",
       "<table border=\"1\" class=\"dataframe\">\n",
       "  <thead>\n",
       "    <tr style=\"text-align: right;\">\n",
       "      <th></th>\n",
       "      <th>id</th>\n",
       "      <th>text</th>\n",
       "      <th>EAP</th>\n",
       "      <th>HPL</th>\n",
       "      <th>MWS</th>\n",
       "    </tr>\n",
       "  </thead>\n",
       "  <tbody>\n",
       "    <tr>\n",
       "      <th>0</th>\n",
       "      <td>id02310</td>\n",
       "      <td>Still, as I urged our leaving Ireland with suc...</td>\n",
       "      <td>0.114680</td>\n",
       "      <td>0.019834</td>\n",
       "      <td>0.865485</td>\n",
       "    </tr>\n",
       "    <tr>\n",
       "      <th>1</th>\n",
       "      <td>id24541</td>\n",
       "      <td>If a fire wanted fanning, it could readily be ...</td>\n",
       "      <td>0.944095</td>\n",
       "      <td>0.043759</td>\n",
       "      <td>0.012146</td>\n",
       "    </tr>\n",
       "    <tr>\n",
       "      <th>2</th>\n",
       "      <td>id00134</td>\n",
       "      <td>And when they had broken down the frail door t...</td>\n",
       "      <td>0.198794</td>\n",
       "      <td>0.790262</td>\n",
       "      <td>0.010944</td>\n",
       "    </tr>\n",
       "    <tr>\n",
       "      <th>3</th>\n",
       "      <td>id27757</td>\n",
       "      <td>While I was thinking how I should possibly man...</td>\n",
       "      <td>0.546915</td>\n",
       "      <td>0.446467</td>\n",
       "      <td>0.006618</td>\n",
       "    </tr>\n",
       "    <tr>\n",
       "      <th>4</th>\n",
       "      <td>id04081</td>\n",
       "      <td>I am not sure to what limit his knowledge may ...</td>\n",
       "      <td>0.935657</td>\n",
       "      <td>0.028493</td>\n",
       "      <td>0.035851</td>\n",
       "    </tr>\n",
       "  </tbody>\n",
       "</table>\n",
       "</div>"
      ],
      "text/plain": [
       "        id                                               text       EAP  \\\n",
       "0  id02310  Still, as I urged our leaving Ireland with suc...  0.114680   \n",
       "1  id24541  If a fire wanted fanning, it could readily be ...  0.944095   \n",
       "2  id00134  And when they had broken down the frail door t...  0.198794   \n",
       "3  id27757  While I was thinking how I should possibly man...  0.546915   \n",
       "4  id04081  I am not sure to what limit his knowledge may ...  0.935657   \n",
       "\n",
       "        HPL       MWS  \n",
       "0  0.019834  0.865485  \n",
       "1  0.043759  0.012146  \n",
       "2  0.790262  0.010944  \n",
       "3  0.446467  0.006618  \n",
       "4  0.028493  0.035851  "
      ]
     },
     "execution_count": 31,
     "metadata": {},
     "output_type": "execute_result"
    }
   ],
   "source": [
    "df_test['EAP'] = y_proba[:, 0]\n",
    "df_test['HPL'] = y_proba[:, 1]\n",
    "df_test['MWS'] = y_proba[:, 2]\n",
    "\n",
    "\n",
    "df_test.head()"
   ]
  },
  {
   "cell_type": "code",
   "execution_count": 32,
   "metadata": {},
   "outputs": [],
   "source": [
    "df_test.drop('text', axis=1).to_csv('submission_nb1.csv', index=False)"
   ]
  },
  {
   "cell_type": "markdown",
   "metadata": {},
   "source": [
    "### Below follow this notebook:\n",
    "\n",
    "https://www.kaggle.com/abhishek/approaching-almost-any-nlp-problem-on-kaggle"
   ]
  },
  {
   "cell_type": "code",
   "execution_count": 49,
   "metadata": {},
   "outputs": [],
   "source": [
    "# LabelEncoder\n",
    "\n",
    "lbl_enc = preprocessing.LabelEncoder()\n",
    "y = lbl_enc.fit_transform(df.author.values)"
   ]
  },
  {
   "cell_type": "code",
   "execution_count": 50,
   "metadata": {},
   "outputs": [
    {
     "data": {
      "text/html": [
       "<div>\n",
       "<style scoped>\n",
       "    .dataframe tbody tr th:only-of-type {\n",
       "        vertical-align: middle;\n",
       "    }\n",
       "\n",
       "    .dataframe tbody tr th {\n",
       "        vertical-align: top;\n",
       "    }\n",
       "\n",
       "    .dataframe thead th {\n",
       "        text-align: right;\n",
       "    }\n",
       "</style>\n",
       "<table border=\"1\" class=\"dataframe\">\n",
       "  <thead>\n",
       "    <tr style=\"text-align: right;\">\n",
       "      <th></th>\n",
       "      <th>id</th>\n",
       "      <th>text</th>\n",
       "      <th>author</th>\n",
       "      <th>encoder</th>\n",
       "    </tr>\n",
       "  </thead>\n",
       "  <tbody>\n",
       "    <tr>\n",
       "      <th>0</th>\n",
       "      <td>id26305</td>\n",
       "      <td>This process, however, afforded me no means of...</td>\n",
       "      <td>EAP</td>\n",
       "      <td>0</td>\n",
       "    </tr>\n",
       "    <tr>\n",
       "      <th>1</th>\n",
       "      <td>id17569</td>\n",
       "      <td>It never once occurred to me that the fumbling...</td>\n",
       "      <td>HPL</td>\n",
       "      <td>1</td>\n",
       "    </tr>\n",
       "    <tr>\n",
       "      <th>2</th>\n",
       "      <td>id11008</td>\n",
       "      <td>In his left hand was a gold snuff box, from wh...</td>\n",
       "      <td>EAP</td>\n",
       "      <td>0</td>\n",
       "    </tr>\n",
       "    <tr>\n",
       "      <th>3</th>\n",
       "      <td>id27763</td>\n",
       "      <td>How lovely is spring As we looked from Windsor...</td>\n",
       "      <td>MWS</td>\n",
       "      <td>2</td>\n",
       "    </tr>\n",
       "    <tr>\n",
       "      <th>4</th>\n",
       "      <td>id12958</td>\n",
       "      <td>Finding nothing else, not even gold, the Super...</td>\n",
       "      <td>HPL</td>\n",
       "      <td>1</td>\n",
       "    </tr>\n",
       "  </tbody>\n",
       "</table>\n",
       "</div>"
      ],
      "text/plain": [
       "        id                                               text author  encoder\n",
       "0  id26305  This process, however, afforded me no means of...    EAP        0\n",
       "1  id17569  It never once occurred to me that the fumbling...    HPL        1\n",
       "2  id11008  In his left hand was a gold snuff box, from wh...    EAP        0\n",
       "3  id27763  How lovely is spring As we looked from Windsor...    MWS        2\n",
       "4  id12958  Finding nothing else, not even gold, the Super...    HPL        1"
      ]
     },
     "execution_count": 50,
     "metadata": {},
     "output_type": "execute_result"
    }
   ],
   "source": [
    "df['encoder'] = y\n",
    "df.head()"
   ]
  },
  {
   "cell_type": "code",
   "execution_count": 51,
   "metadata": {},
   "outputs": [],
   "source": [
    "x_train, x_valid, y_train, y_valid = train_test_split(df.text.values, y, \n",
    "                                                  stratify=y, \n",
    "                                                  random_state=42, \n",
    "                                                  test_size=0.1, shuffle=True)"
   ]
  },
  {
   "cell_type": "code",
   "execution_count": 52,
   "metadata": {},
   "outputs": [
    {
     "name": "stdout",
     "output_type": "stream",
     "text": [
      "(17621,)\n",
      "(1958,)\n"
     ]
    }
   ],
   "source": [
    "print (x_train.shape)\n",
    "print (x_valid.shape)"
   ]
  },
  {
   "cell_type": "code",
   "execution_count": 59,
   "metadata": {},
   "outputs": [],
   "source": [
    "# Always start with these features. They work (almost) everytime!\n",
    "\n",
    "#tfidf = TfidfVectorizer(min_df=3,  max_features=None, \n",
    "            #strip_accents='unicode', analyzer='word',token_pattern=r'\\w{1,}',\n",
    "            #ngram_range=(1, 3), use_idf=1,smooth_idf=1,sublinear_tf=1,\n",
    "            #stop_words = 'english')\n",
    "\n",
    "tfidf = TfidfVectorizer()\n",
    "\n",
    "\n",
    "# Fitting TF-IDF to both training and test sets (semi-supervised learning)\n",
    "tfidf.fit(list(x_train) + list(x_valid))\n",
    "x_train_tfidf = tfidf.transform(x_train) \n",
    "x_valid_tfidf = tfidf.transform(x_valid)"
   ]
  },
  {
   "cell_type": "code",
   "execution_count": 60,
   "metadata": {},
   "outputs": [
    {
     "data": {
      "text/plain": [
       "(17621, 25068)"
      ]
     },
     "execution_count": 60,
     "metadata": {},
     "output_type": "execute_result"
    }
   ],
   "source": [
    "x_train_tfidf.shape"
   ]
  },
  {
   "cell_type": "code",
   "execution_count": 55,
   "metadata": {},
   "outputs": [],
   "source": [
    "def multiclass_logloss(actual, predicted, eps=1e-15):\n",
    "    \"\"\"Multi class version of Logarithmic Loss metric.\n",
    "    :param actual: Array containing the actual target classes\n",
    "    :param predicted: Matrix with class predictions, one probability per class\n",
    "    \"\"\"\n",
    "    # Convert 'actual' to a binary array if it's not already:\n",
    "    if len(actual.shape) == 1:\n",
    "        actual2 = np.zeros((actual.shape[0], predicted.shape[1]))\n",
    "        for i, val in enumerate(actual):\n",
    "            actual2[i, val] = 1\n",
    "        actual = actual2\n",
    "\n",
    "    clip = np.clip(predicted, eps, 1 - eps)\n",
    "    rows = actual.shape[0]\n",
    "    vsota = np.sum(actual * np.log(clip))\n",
    "    return -1.0 / rows * vsota"
   ]
  },
  {
   "cell_type": "code",
   "execution_count": 61,
   "metadata": {},
   "outputs": [
    {
     "name": "stdout",
     "output_type": "stream",
     "text": [
      "logloss: 0.589 \n",
      "accuracy: 0.816 \n"
     ]
    }
   ],
   "source": [
    "# Logistic Regression\n",
    "\n",
    "clf = LogisticRegression(C=1.0)\n",
    "clf.fit(x_train_tfidf, y_train)\n",
    "y_pred = clf.predict_proba(x_valid_tfidf)\n",
    "y_pred2 = clf.predict(x_valid_tfidf)\n",
    "\n",
    "print (\"logloss: %0.3f \" % multiclass_logloss(y_valid,y_pred))\n",
    "print (\"accuracy: %0.3f \" % accuracy_score(y_valid, y_pred2))"
   ]
  },
  {
   "cell_type": "code",
   "execution_count": 57,
   "metadata": {},
   "outputs": [
    {
     "data": {
      "text/plain": [
       "array([[0.64570316, 0.07198908, 0.28230776],\n",
       "       [0.7279392 , 0.11053272, 0.16152808],\n",
       "       [0.59463897, 0.16063728, 0.24472375],\n",
       "       ...,\n",
       "       [0.30960304, 0.23045395, 0.45994301],\n",
       "       [0.27844525, 0.19130916, 0.53024558],\n",
       "       [0.12123526, 0.80918181, 0.06958293]])"
      ]
     },
     "execution_count": 57,
     "metadata": {},
     "output_type": "execute_result"
    }
   ],
   "source": [
    "y_proba"
   ]
  },
  {
   "cell_type": "code",
   "execution_count": 58,
   "metadata": {},
   "outputs": [],
   "source": [
    "# CountVectorizer\n",
    "\n",
    "ctv = CountVectorizer(analyzer='word',token_pattern=r'\\w{1,}',\n",
    "            ngram_range=(1, 3), stop_words = 'english')\n",
    "\n",
    "# Fitting Count Vectorizer to both training and test sets (semi-supervised learning)\n",
    "ctv.fit(list(x_train) + list(x_valid))\n",
    "x_train_ctv =  ctv.transform(x_train) \n",
    "x_valid_ctv = ctv.transform(x_valid)"
   ]
  },
  {
   "cell_type": "code",
   "execution_count": 62,
   "metadata": {},
   "outputs": [
    {
     "name": "stdout",
     "output_type": "stream",
     "text": [
      "logloss: 0.528 \n",
      "accuracy: 0.781 \n"
     ]
    }
   ],
   "source": [
    "# This is better than TF-IDF???\n",
    "\n",
    "clf = LogisticRegression(C=1.0)\n",
    "clf.fit(x_train_ctv, y_train)\n",
    "y_pred = clf.predict_proba(x_valid_ctv)\n",
    "y_pred2 = clf.predict(x_valid_ctv)\n",
    "\n",
    "print (\"logloss: %0.3f \" % multiclass_logloss(y_valid,y_pred))\n",
    "print (\"accuracy: %0.3f \" % accuracy_score(y_valid, y_pred2))"
   ]
  },
  {
   "cell_type": "code",
   "execution_count": 63,
   "metadata": {},
   "outputs": [
    {
     "name": "stdout",
     "output_type": "stream",
     "text": [
      "logloss: 0.599 \n",
      "accuracy: 0.815 \n"
     ]
    }
   ],
   "source": [
    "# A simple Naive Bayes on TFIDF\n",
    "\n",
    "clf = MultinomialNB()\n",
    "clf.fit(x_train_tfidf, y_train)\n",
    "y_pred = clf.predict_proba(x_valid_tfidf)\n",
    "y_pred2 = clf.predict(x_valid_tfidf)\n",
    "\n",
    "print (\"logloss: %0.3f \" % multiclass_logloss(y_valid,y_pred))\n",
    "print (\"accuracy: %0.3f \" % accuracy_score(y_valid, y_pred2))"
   ]
  },
  {
   "cell_type": "code",
   "execution_count": 64,
   "metadata": {},
   "outputs": [
    {
     "name": "stdout",
     "output_type": "stream",
     "text": [
      "logloss: 0.485 \n",
      "accuracy: 0.832 \n"
     ]
    }
   ],
   "source": [
    "# Naive Bayes on Counts Data\n",
    "\n",
    "clf = MultinomialNB()\n",
    "clf.fit(x_train_ctv, y_train)\n",
    "y_pred = clf.predict_proba(x_valid_ctv)\n",
    "y_pred2 = clf.predict(x_valid_ctv)\n",
    "\n",
    "print (\"logloss: %0.3f \" % multiclass_logloss(y_valid,y_pred))\n",
    "print (\"accuracy: %0.3f \" % accuracy_score(y_valid, y_pred2))"
   ]
  },
  {
   "cell_type": "markdown",
   "metadata": {},
   "source": [
    "Looks good, so I am going to \n",
    "\n",
    "## have another submission. \n"
   ]
  },
  {
   "cell_type": "code",
   "execution_count": 65,
   "metadata": {},
   "outputs": [],
   "source": [
    "ctv = CountVectorizer(analyzer='word',token_pattern=r'\\w{1,}',\n",
    "            ngram_range=(1, 3), stop_words = 'english')\n",
    "\n",
    "# Fitting Count Vectorizer to both training and test sets (semi-supervised learning)\n",
    "\n",
    "ctv.fit(list(df.text) + list(df_test.text))\n",
    "x_train_ctv =  ctv.transform(df.text.values) \n",
    "x_test_ctv = ctv.transform(df_test.text.values)"
   ]
  },
  {
   "cell_type": "code",
   "execution_count": 66,
   "metadata": {},
   "outputs": [
    {
     "data": {
      "text/plain": [
       "(19579, 555112)"
      ]
     },
     "execution_count": 66,
     "metadata": {},
     "output_type": "execute_result"
    }
   ],
   "source": [
    "x_train_ctv.shape"
   ]
  },
  {
   "cell_type": "code",
   "execution_count": 67,
   "metadata": {},
   "outputs": [],
   "source": [
    "clf = MultinomialNB()\n",
    "clf.fit(x_train_ctv, y)\n",
    "y_pred = clf.predict_proba(x_test_ctv)\n",
    "y_pred2 = clf.predict(x_test_ctv)\n",
    "\n",
    "#print (\"logloss: %0.3f \" % multiclass_logloss(y_valid,y_pred))\n",
    "#print (\"accuracy: %0.3f \" % accuracy_score(y_valid, y_pred2))"
   ]
  },
  {
   "cell_type": "code",
   "execution_count": 68,
   "metadata": {},
   "outputs": [
    {
     "data": {
      "text/plain": [
       "array([[1.28144018e-02, 2.84518742e-04, 9.86901079e-01],\n",
       "       [9.99992953e-01, 3.88006538e-06, 3.16652685e-06],\n",
       "       [1.92579428e-01, 8.07339206e-01, 8.13662510e-05],\n",
       "       ...,\n",
       "       [9.99999989e-01, 2.33448772e-09, 8.24613461e-09],\n",
       "       [2.64905698e-04, 1.58882368e-06, 9.99733505e-01],\n",
       "       [8.50094121e-03, 9.91497161e-01, 1.89826568e-06]])"
      ]
     },
     "execution_count": 68,
     "metadata": {},
     "output_type": "execute_result"
    }
   ],
   "source": [
    "y_pred"
   ]
  },
  {
   "cell_type": "code",
   "execution_count": 69,
   "metadata": {},
   "outputs": [
    {
     "data": {
      "text/html": [
       "<div>\n",
       "<style scoped>\n",
       "    .dataframe tbody tr th:only-of-type {\n",
       "        vertical-align: middle;\n",
       "    }\n",
       "\n",
       "    .dataframe tbody tr th {\n",
       "        vertical-align: top;\n",
       "    }\n",
       "\n",
       "    .dataframe thead th {\n",
       "        text-align: right;\n",
       "    }\n",
       "</style>\n",
       "<table border=\"1\" class=\"dataframe\">\n",
       "  <thead>\n",
       "    <tr style=\"text-align: right;\">\n",
       "      <th></th>\n",
       "      <th>id</th>\n",
       "      <th>text</th>\n",
       "      <th>EAP</th>\n",
       "      <th>HPL</th>\n",
       "      <th>MWS</th>\n",
       "    </tr>\n",
       "  </thead>\n",
       "  <tbody>\n",
       "    <tr>\n",
       "      <th>0</th>\n",
       "      <td>id02310</td>\n",
       "      <td>Still, as I urged our leaving Ireland with suc...</td>\n",
       "      <td>0.012814</td>\n",
       "      <td>0.000285</td>\n",
       "      <td>9.869011e-01</td>\n",
       "    </tr>\n",
       "    <tr>\n",
       "      <th>1</th>\n",
       "      <td>id24541</td>\n",
       "      <td>If a fire wanted fanning, it could readily be ...</td>\n",
       "      <td>0.999993</td>\n",
       "      <td>0.000004</td>\n",
       "      <td>3.166527e-06</td>\n",
       "    </tr>\n",
       "    <tr>\n",
       "      <th>2</th>\n",
       "      <td>id00134</td>\n",
       "      <td>And when they had broken down the frail door t...</td>\n",
       "      <td>0.192579</td>\n",
       "      <td>0.807339</td>\n",
       "      <td>8.136625e-05</td>\n",
       "    </tr>\n",
       "    <tr>\n",
       "      <th>3</th>\n",
       "      <td>id27757</td>\n",
       "      <td>While I was thinking how I should possibly man...</td>\n",
       "      <td>0.857430</td>\n",
       "      <td>0.142570</td>\n",
       "      <td>3.311800e-07</td>\n",
       "    </tr>\n",
       "    <tr>\n",
       "      <th>4</th>\n",
       "      <td>id04081</td>\n",
       "      <td>I am not sure to what limit his knowledge may ...</td>\n",
       "      <td>0.973802</td>\n",
       "      <td>0.019574</td>\n",
       "      <td>6.623424e-03</td>\n",
       "    </tr>\n",
       "  </tbody>\n",
       "</table>\n",
       "</div>"
      ],
      "text/plain": [
       "        id                                               text       EAP  \\\n",
       "0  id02310  Still, as I urged our leaving Ireland with suc...  0.012814   \n",
       "1  id24541  If a fire wanted fanning, it could readily be ...  0.999993   \n",
       "2  id00134  And when they had broken down the frail door t...  0.192579   \n",
       "3  id27757  While I was thinking how I should possibly man...  0.857430   \n",
       "4  id04081  I am not sure to what limit his knowledge may ...  0.973802   \n",
       "\n",
       "        HPL           MWS  \n",
       "0  0.000285  9.869011e-01  \n",
       "1  0.000004  3.166527e-06  \n",
       "2  0.807339  8.136625e-05  \n",
       "3  0.142570  3.311800e-07  \n",
       "4  0.019574  6.623424e-03  "
      ]
     },
     "execution_count": 69,
     "metadata": {},
     "output_type": "execute_result"
    }
   ],
   "source": [
    "df_test['EAP'] = y_pred[:, 0]\n",
    "df_test['HPL'] = y_pred[:, 1]\n",
    "df_test['MWS'] = y_pred[:, 2]\n",
    "\n",
    "df_test.head()"
   ]
  },
  {
   "cell_type": "code",
   "execution_count": 58,
   "metadata": {},
   "outputs": [],
   "source": [
    "# The result is even worse!!!\n",
    "\n",
    "df_test.drop('text', axis=1).to_csv('submission2.csv', index=False)"
   ]
  },
  {
   "cell_type": "code",
   "execution_count": 36,
   "metadata": {},
   "outputs": [
    {
     "name": "stdout",
     "output_type": "stream",
     "text": [
      "(17621, 120)\n"
     ]
    }
   ],
   "source": [
    "# Apply SVD, I chose 120 components. 120-200 components are good enough for SVM model.\n",
    "\n",
    "svd = decomposition.TruncatedSVD(n_components=120)\n",
    "svd.fit(x_train_tfidf)\n",
    "x_train_svd = svd.transform(x_train_tfidf)\n",
    "x_valid_svd = svd.transform(x_valid_tfidf)\n",
    "\n",
    "print(x_train_svd.shape)\n",
    "\n",
    "# Scale the data obtained from SVD. Renaming variable to reuse without scaling.\n",
    "\n",
    "scl = preprocessing.StandardScaler()\n",
    "scl.fit(x_train_svd)\n",
    "x_train_svd_scl = scl.transform(x_train_svd)\n",
    "x_valid_svd_scl = scl.transform(x_valid_svd)"
   ]
  },
  {
   "cell_type": "code",
   "execution_count": null,
   "metadata": {},
   "outputs": [],
   "source": [
    "#clf = SVC(C=1.0, probability=True) # since we need probabilities\n",
    "#clf.fit(x_train_svd_scl, y_train)\n",
    "#y_pred = clf.predict_proba(x_valid_svd_scl)\n",
    "#y_pred2 = clf.predict(x_valid_svd_scl)\n",
    "\n",
    "#print (\"logloss: %0.3f \" % multiclass_logloss(y_valid, y_pred))\n",
    "#print (\"accuracy: %0.3f \" % accuracy_score(y_valid, y_pred2))"
   ]
  },
  {
   "cell_type": "code",
   "execution_count": 37,
   "metadata": {},
   "outputs": [
    {
     "name": "stderr",
     "output_type": "stream",
     "text": [
      "/Library/Frameworks/Python.framework/Versions/3.7/lib/python3.7/site-packages/sklearn/linear_model/logistic.py:432: FutureWarning: Default solver will be changed to 'lbfgs' in 0.22. Specify a solver to silence this warning.\n",
      "  FutureWarning)\n",
      "/Library/Frameworks/Python.framework/Versions/3.7/lib/python3.7/site-packages/sklearn/linear_model/logistic.py:469: FutureWarning: Default multi_class will be changed to 'auto' in 0.22. Specify the multi_class option to silence this warning.\n",
      "  \"this warning.\", FutureWarning)\n"
     ]
    },
    {
     "name": "stdout",
     "output_type": "stream",
     "text": [
      "logloss: 0.776 \n",
      "accuracy: 0.674 \n"
     ]
    }
   ],
   "source": [
    "clf = LogisticRegression(C=1.0)\n",
    "clf.fit(x_train_svd_scl, y_train)\n",
    "y_pred = clf.predict_proba(x_valid_svd_scl)\n",
    "y_pred2 = clf.predict(x_valid_svd_scl)\n",
    "\n",
    "print (\"logloss: %0.3f \" % multiclass_logloss(y_valid,y_pred))\n",
    "print (\"accuracy: %0.3f \" % accuracy_score(y_valid, y_pred2))"
   ]
  },
  {
   "cell_type": "code",
   "execution_count": 60,
   "metadata": {},
   "outputs": [
    {
     "name": "stdout",
     "output_type": "stream",
     "text": [
      "logloss: 0.784 \n",
      "accuracy: 0.661 \n"
     ]
    }
   ],
   "source": [
    "# Fitting a simple xgboost on tf-idf\n",
    "\n",
    "clf = xgb.XGBClassifier(max_depth=7, n_estimators=200, colsample_bytree=0.8, \n",
    "                        subsample=0.8, nthread=10, learning_rate=0.1)\n",
    "clf.fit(x_train_tfidf.tocsc(), y_train)\n",
    "y_pred = clf.predict_proba(x_valid_tfidf.tocsc())\n",
    "y_pred2 = clf.predict(x_valid_tfidf.tocsc())\n",
    "\n",
    "print (\"logloss: %0.3f \" % multiclass_logloss(y_valid,y_pred))\n",
    "print (\"accuracy: %0.3f \" % accuracy_score(y_valid, y_pred2))"
   ]
  },
  {
   "cell_type": "code",
   "execution_count": 62,
   "metadata": {},
   "outputs": [
    {
     "name": "stdout",
     "output_type": "stream",
     "text": [
      "              precision    recall  f1-score   support\n",
      "\n",
      "           0       0.60      0.86      0.70       790\n",
      "           1       0.74      0.54      0.62       564\n",
      "           2       0.76      0.52      0.62       604\n",
      "\n",
      "    accuracy                           0.66      1958\n",
      "   macro avg       0.70      0.64      0.65      1958\n",
      "weighted avg       0.69      0.66      0.65      1958\n",
      "\n"
     ]
    }
   ],
   "source": [
    "print(classification_report(y_valid,y_pred2))"
   ]
  },
  {
   "cell_type": "code",
   "execution_count": 68,
   "metadata": {},
   "outputs": [
    {
     "name": "stdout",
     "output_type": "stream",
     "text": [
      "logloss: 0.772 \n",
      "accuracy: 0.674 \n",
      "              precision    recall  f1-score   support\n",
      "\n",
      "           0       0.60      0.86      0.71       790\n",
      "           1       0.77      0.55      0.64       564\n",
      "           2       0.78      0.54      0.64       604\n",
      "\n",
      "    accuracy                           0.67      1958\n",
      "   macro avg       0.72      0.65      0.66      1958\n",
      "weighted avg       0.70      0.67      0.67      1958\n",
      "\n"
     ]
    }
   ],
   "source": [
    "# Fitting a simple xgboost on tf-idf\n",
    "\n",
    "ctv = CountVectorizer(analyzer='word',token_pattern=r'\\w{1,}',\n",
    "            ngram_range=(1, 3), stop_words = 'english')\n",
    "\n",
    "# Fitting Count Vectorizer to both training and test sets (semi-supervised learning)\n",
    "ctv.fit(list(x_train) + list(x_valid))\n",
    "x_train_ctv =  ctv.transform(x_train) \n",
    "x_valid_ctv = ctv.transform(x_valid)\n",
    "\n",
    "clf = xgb.XGBClassifier(max_depth=7, n_estimators=200, colsample_bytree=0.8, \n",
    "                        subsample=0.8, nthread=10, learning_rate=0.1)\n",
    "\n",
    "clf.fit(x_train_ctv.tocsc(), y_train)\n",
    "\n",
    "y_pred = clf.predict_proba(x_valid_ctv.tocsc())\n",
    "y_pred2 = clf.predict(x_valid_ctv.tocsc())\n",
    "\n",
    "print (\"logloss: %0.3f \" % multiclass_logloss(y_valid,y_pred))\n",
    "print (\"accuracy: %0.3f \" % accuracy_score(y_valid, y_pred2))\n",
    "print(classification_report(y_valid,y_pred2))"
   ]
  },
  {
   "cell_type": "code",
   "execution_count": 65,
   "metadata": {},
   "outputs": [
    {
     "data": {
      "text/plain": [
       "(19579, 555112)"
      ]
     },
     "execution_count": 65,
     "metadata": {},
     "output_type": "execute_result"
    }
   ],
   "source": [
    "x_train_ctv.shape"
   ]
  },
  {
   "cell_type": "code",
   "execution_count": 70,
   "metadata": {},
   "outputs": [
    {
     "name": "stdout",
     "output_type": "stream",
     "text": [
      "logloss: 0.770 \n",
      "accuracy: 0.675 \n",
      "              precision    recall  f1-score   support\n",
      "\n",
      "           0       0.68      0.69      0.68       790\n",
      "           1       0.65      0.66      0.65       564\n",
      "           2       0.70      0.67      0.68       604\n",
      "\n",
      "    accuracy                           0.68      1958\n",
      "   macro avg       0.67      0.67      0.67      1958\n",
      "weighted avg       0.68      0.68      0.68      1958\n",
      "\n"
     ]
    }
   ],
   "source": [
    "# Fitting a simple xgboost on tf-idf svd features\n",
    "\n",
    "clf = xgb.XGBClassifier(max_depth=7, n_estimators=200, colsample_bytree=0.8, \n",
    "                        subsample=0.8, nthread=10, learning_rate=0.1)\n",
    "\n",
    "clf.fit(x_train_svd, y_train)\n",
    "y_pred = clf.predict_proba(x_valid_svd)\n",
    "y_pred2 = clf.predict(x_valid_svd)\n",
    "\n",
    "print (\"logloss: %0.3f \" % multiclass_logloss(y_valid,y_pred))\n",
    "print (\"accuracy: %0.3f \" % accuracy_score(y_valid, y_pred2))\n",
    "print(classification_report(y_valid,y_pred2))"
   ]
  },
  {
   "cell_type": "code",
   "execution_count": null,
   "metadata": {},
   "outputs": [],
   "source": [
    "clf = linearSVC()\n",
    "\n",
    "clf.fit(x_train_svd, y_train)\n",
    "y_pred = clf.predict_proba(x_valid_svd)\n",
    "y_pred2 = clf.predict(x_valid_svd)\n",
    "\n",
    "print (\"logloss: %0.3f \" % multiclass_logloss(y_valid,y_pred))\n",
    "print (\"accuracy: %0.3f \" % accuracy_score(y_valid, y_pred2))\n",
    "print(classification_report(y_valid,y_pred2))"
   ]
  }
 ],
 "metadata": {
  "kernelspec": {
   "display_name": "Python 3",
   "language": "python",
   "name": "python3"
  },
  "language_info": {
   "codemirror_mode": {
    "name": "ipython",
    "version": 3
   },
   "file_extension": ".py",
   "mimetype": "text/x-python",
   "name": "python",
   "nbconvert_exporter": "python",
   "pygments_lexer": "ipython3",
   "version": "3.7.3"
  }
 },
 "nbformat": 4,
 "nbformat_minor": 4
}
