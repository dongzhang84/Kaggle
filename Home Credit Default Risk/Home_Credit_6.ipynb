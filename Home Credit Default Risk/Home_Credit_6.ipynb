{
 "cells": [
  {
   "cell_type": "markdown",
   "metadata": {},
   "source": [
    "# Home Credit Default Risk 6\n",
    "\n",
    "\n",
    "## Feature Selection\n",
    "\n",
    "Kaggle Question:\n",
    "\n",
    "https://www.kaggle.com/c/home-credit-default-risk/data\n",
    "\n",
    "This work is to further explore home credit default risk following:\n",
    "\n",
    "https://github.com/dongzhang84/Kaggle/blob/master/Home%20Credit%20Default%20Risk/Home_Credit_1.ipynb\n",
    "\n",
    "https://github.com/dongzhang84/Kaggle/blob/master/Home%20Credit%20Default%20Risk/Home_Credit_2.ipynb\n",
    "\n",
    "https://github.com/dongzhang84/Kaggle/blob/master/Home%20Credit%20Default%20Risk/Home_Credit_3.ipynb\n",
    "\n",
    "https://github.com/dongzhang84/Kaggle/blob/master/Home%20Credit%20Default%20Risk/Home_Credit_4.ipynb\n",
    "\n",
    "https://github.com/dongzhang84/Kaggle/blob/master/Home%20Credit%20Default%20Risk/Home_Credit_5.ipynb\n",
    "\n",
    "Reference: \n",
    "\n",
    "https://www.kaggle.com/willkoehrsen/introduction-to-feature-selection"
   ]
  },
  {
   "cell_type": "code",
   "execution_count": 1,
   "metadata": {},
   "outputs": [],
   "source": [
    "# pandas and numpy for data manipulation\n",
    "import pandas as pd\n",
    "import numpy as np\n",
    "\n",
    "# featuretools for automated feature engineering\n",
    "import featuretools as ft\n",
    "\n",
    "# matplotlit and seaborn for visualizations\n",
    "import matplotlib.pyplot as plt\n",
    "plt.rcParams['font.size'] = 22\n",
    "import seaborn as sns\n",
    "\n",
    "# Suppress warnings from pandas\n",
    "import warnings\n",
    "warnings.filterwarnings('ignore')\n",
    "\n",
    "# modeling \n",
    "import lightgbm as lgb\n",
    "\n",
    "# utilities\n",
    "from sklearn.model_selection import train_test_split\n",
    "from sklearn.model_selection import KFold\n",
    "from sklearn.metrics import roc_auc_score\n",
    "from sklearn.preprocessing import LabelEncoder\n",
    "\n",
    "# memory management\n",
    "import gc"
   ]
  },
  {
   "cell_type": "code",
   "execution_count": 3,
   "metadata": {},
   "outputs": [
    {
     "name": "stdout",
     "output_type": "stream",
     "text": [
      "\u001b[31mHomeCredit_columns_description.csv\u001b[m\u001b[m* \u001b[31mprevious_application.csv\u001b[m\u001b[m*\r\n",
      "\u001b[31mPOS_CASH_balance.csv\u001b[m\u001b[m*               \u001b[31msample_submission.csv\u001b[m\u001b[m*\r\n",
      "\u001b[31mapplication_test.csv\u001b[m\u001b[m*               test_bureau_corrs_removed.csv\r\n",
      "\u001b[31mapplication_train.csv\u001b[m\u001b[m*              test_bureau_raw.csv\r\n",
      "\u001b[31mbureau.csv\u001b[m\u001b[m*                         test_previous_raw.csv\r\n",
      "\u001b[31mbureau_balance.csv\u001b[m\u001b[m*                 train_bureau_corrs_removed.csv\r\n",
      "\u001b[31mcredit_card_balance.csv\u001b[m\u001b[m*            train_bureau_raw.csv\r\n",
      "\u001b[31minstallments_payments.csv\u001b[m\u001b[m*          train_previous_raw.csv\r\n"
     ]
    }
   ],
   "source": [
    "ls data"
   ]
  },
  {
   "cell_type": "code",
   "execution_count": 27,
   "metadata": {},
   "outputs": [],
   "source": [
    "# Read in data\n",
    "#train_bureau = pd.read_csv('data/train_bureau_raw.csv', nrows = 1000)\n",
    "#test_bureau = pd.read_csv('data/test_bureau_raw.csv', nrows = 1000)\n",
    "\n",
    "#train_previous = pd.read_csv('data/train_previous_raw.csv', nrows = 1000)\n",
    "#test_previous = pd.read_csv('data/test_previous_raw.csv', nrows = 1000)\n",
    "\n",
    "\n",
    "train_bureau = pd.read_csv('data/train_bureau_raw.csv')\n",
    "test_bureau = pd.read_csv('data/test_bureau_raw.csv')\n",
    "\n",
    "train_previous = pd.read_csv('data/train_previous_raw.csv')\n",
    "test_previous = pd.read_csv('data/test_previous_raw.csv')\n",
    "\n",
    "# All columns in dataframes\n",
    "bureau_columns = list(train_bureau.columns)\n",
    "previous_columns = list(train_previous.columns)"
   ]
  },
  {
   "cell_type": "code",
   "execution_count": 28,
   "metadata": {},
   "outputs": [
    {
     "data": {
      "text/plain": [
       "333"
      ]
     },
     "execution_count": 28,
     "metadata": {},
     "output_type": "execute_result"
    }
   ],
   "source": [
    "len(bureau_columns)"
   ]
  },
  {
   "cell_type": "code",
   "execution_count": 29,
   "metadata": {},
   "outputs": [
    {
     "data": {
      "text/plain": [
       "1514"
      ]
     },
     "execution_count": 29,
     "metadata": {},
     "output_type": "execute_result"
    }
   ],
   "source": [
    "len(previous_columns)"
   ]
  },
  {
   "cell_type": "code",
   "execution_count": 30,
   "metadata": {},
   "outputs": [
    {
     "name": "stdout",
     "output_type": "stream",
     "text": [
      "There are 122 original features.\n",
      "There are 211 bureau and bureau balance features.\n",
      "There are 1392 previous Home Credit loan features.\n"
     ]
    }
   ],
   "source": [
    "# Bureau only features\n",
    "bureau_features = list(set(bureau_columns) - set(previous_columns))\n",
    "\n",
    "# Previous only features\n",
    "previous_features = list(set(previous_columns) - set(bureau_columns))\n",
    "\n",
    "# Original features will be in both datasets\n",
    "original_features = list(set(previous_columns) & set(bureau_columns))\n",
    "\n",
    "print('There are %d original features.' % len(original_features))\n",
    "print('There are %d bureau and bureau balance features.' % len(bureau_features))\n",
    "print('There are %d previous Home Credit loan features.' % len(previous_features))"
   ]
  },
  {
   "cell_type": "code",
   "execution_count": 31,
   "metadata": {},
   "outputs": [
    {
     "data": {
      "text/plain": [
       "1392"
      ]
     },
     "execution_count": 31,
     "metadata": {},
     "output_type": "execute_result"
    }
   ],
   "source": [
    "len(previous_features)"
   ]
  },
  {
   "cell_type": "code",
   "execution_count": 32,
   "metadata": {},
   "outputs": [],
   "source": [
    "train_labels = train_bureau['TARGET']\n",
    "previous_features.append('SK_ID_CURR')\n",
    "\n",
    "train_ids = train_bureau['SK_ID_CURR']\n",
    "test_ids = test_bureau['SK_ID_CURR']"
   ]
  },
  {
   "cell_type": "code",
   "execution_count": 33,
   "metadata": {},
   "outputs": [
    {
     "name": "stdout",
     "output_type": "stream",
     "text": [
      "Training shape:  (307511, 1725)\n",
      "Testing shape:  (48744, 1724)\n"
     ]
    }
   ],
   "source": [
    "# Merge the dataframes avoiding duplicating columns by subsetting train_previous\n",
    "\n",
    "df_train = train_bureau.merge(train_previous[previous_features], on = 'SK_ID_CURR')\n",
    "df_test = test_bureau.merge(test_previous[previous_features], on = 'SK_ID_CURR')\n",
    "\n",
    "print('Training shape: ', df_train.shape)\n",
    "print('Testing shape: ', df_test.shape)"
   ]
  },
  {
   "cell_type": "code",
   "execution_count": 34,
   "metadata": {},
   "outputs": [
    {
     "name": "stdout",
     "output_type": "stream",
     "text": [
      "Training shape:  (307511, 1845)\n",
      "Testing shape:  (48744, 1845)\n"
     ]
    }
   ],
   "source": [
    "# One hot encoding\n",
    "\n",
    "df_train = pd.get_dummies(df_train)\n",
    "df_test = pd.get_dummies(df_test)\n",
    "\n",
    "# Match the columns in the dataframes\n",
    "df_train, df_test = df_train.align(df_test, join = 'inner', axis = 1)\n",
    "\n",
    "print('Training shape: ', df_train.shape)\n",
    "print('Testing shape: ', df_test.shape)"
   ]
  },
  {
   "cell_type": "markdown",
   "metadata": {},
   "source": [
    "# Remove Collinear Variables"
   ]
  },
  {
   "cell_type": "code",
   "execution_count": 35,
   "metadata": {},
   "outputs": [
    {
     "data": {
      "text/html": [
       "<div>\n",
       "<style scoped>\n",
       "    .dataframe tbody tr th:only-of-type {\n",
       "        vertical-align: middle;\n",
       "    }\n",
       "\n",
       "    .dataframe tbody tr th {\n",
       "        vertical-align: top;\n",
       "    }\n",
       "\n",
       "    .dataframe thead th {\n",
       "        text-align: right;\n",
       "    }\n",
       "</style>\n",
       "<table border=\"1\" class=\"dataframe\">\n",
       "  <thead>\n",
       "    <tr style=\"text-align: right;\">\n",
       "      <th></th>\n",
       "      <th>SK_ID_CURR</th>\n",
       "      <th>CNT_CHILDREN</th>\n",
       "      <th>AMT_INCOME_TOTAL</th>\n",
       "      <th>AMT_CREDIT</th>\n",
       "      <th>AMT_ANNUITY</th>\n",
       "      <th>AMT_GOODS_PRICE</th>\n",
       "      <th>REGION_POPULATION_RELATIVE</th>\n",
       "      <th>DAYS_BIRTH</th>\n",
       "      <th>DAYS_EMPLOYED</th>\n",
       "      <th>DAYS_REGISTRATION</th>\n",
       "      <th>...</th>\n",
       "      <th>HOUSETYPE_MODE_terraced house</th>\n",
       "      <th>WALLSMATERIAL_MODE_Block</th>\n",
       "      <th>WALLSMATERIAL_MODE_Mixed</th>\n",
       "      <th>WALLSMATERIAL_MODE_Monolithic</th>\n",
       "      <th>WALLSMATERIAL_MODE_Others</th>\n",
       "      <th>WALLSMATERIAL_MODE_Panel</th>\n",
       "      <th>WALLSMATERIAL_MODE_Stone, brick</th>\n",
       "      <th>WALLSMATERIAL_MODE_Wooden</th>\n",
       "      <th>EMERGENCYSTATE_MODE_No</th>\n",
       "      <th>EMERGENCYSTATE_MODE_Yes</th>\n",
       "    </tr>\n",
       "  </thead>\n",
       "  <tbody>\n",
       "    <tr>\n",
       "      <th>SK_ID_CURR</th>\n",
       "      <td>1.000000</td>\n",
       "      <td>0.001129</td>\n",
       "      <td>0.001820</td>\n",
       "      <td>0.000343</td>\n",
       "      <td>0.000433</td>\n",
       "      <td>0.000232</td>\n",
       "      <td>0.000849</td>\n",
       "      <td>0.001500</td>\n",
       "      <td>0.001366</td>\n",
       "      <td>0.000973</td>\n",
       "      <td>...</td>\n",
       "      <td>0.000553</td>\n",
       "      <td>0.002073</td>\n",
       "      <td>0.000976</td>\n",
       "      <td>0.000072</td>\n",
       "      <td>0.001396</td>\n",
       "      <td>0.002300</td>\n",
       "      <td>0.001281</td>\n",
       "      <td>0.000270</td>\n",
       "      <td>0.000510</td>\n",
       "      <td>0.002549</td>\n",
       "    </tr>\n",
       "    <tr>\n",
       "      <th>CNT_CHILDREN</th>\n",
       "      <td>0.001129</td>\n",
       "      <td>1.000000</td>\n",
       "      <td>0.012882</td>\n",
       "      <td>0.002145</td>\n",
       "      <td>0.021374</td>\n",
       "      <td>0.001827</td>\n",
       "      <td>0.025573</td>\n",
       "      <td>0.330938</td>\n",
       "      <td>0.239818</td>\n",
       "      <td>0.183395</td>\n",
       "      <td>...</td>\n",
       "      <td>0.001830</td>\n",
       "      <td>0.005272</td>\n",
       "      <td>0.000709</td>\n",
       "      <td>0.001607</td>\n",
       "      <td>0.002032</td>\n",
       "      <td>0.020892</td>\n",
       "      <td>0.025088</td>\n",
       "      <td>0.011036</td>\n",
       "      <td>0.038644</td>\n",
       "      <td>0.004525</td>\n",
       "    </tr>\n",
       "    <tr>\n",
       "      <th>AMT_INCOME_TOTAL</th>\n",
       "      <td>0.001820</td>\n",
       "      <td>0.012882</td>\n",
       "      <td>1.000000</td>\n",
       "      <td>0.156870</td>\n",
       "      <td>0.191657</td>\n",
       "      <td>0.159610</td>\n",
       "      <td>0.074796</td>\n",
       "      <td>0.027261</td>\n",
       "      <td>0.064223</td>\n",
       "      <td>0.027805</td>\n",
       "      <td>...</td>\n",
       "      <td>0.000718</td>\n",
       "      <td>0.011696</td>\n",
       "      <td>0.006149</td>\n",
       "      <td>0.023886</td>\n",
       "      <td>0.003886</td>\n",
       "      <td>0.032753</td>\n",
       "      <td>0.016523</td>\n",
       "      <td>0.003369</td>\n",
       "      <td>0.050174</td>\n",
       "      <td>0.002894</td>\n",
       "    </tr>\n",
       "    <tr>\n",
       "      <th>AMT_CREDIT</th>\n",
       "      <td>0.000343</td>\n",
       "      <td>0.002145</td>\n",
       "      <td>0.156870</td>\n",
       "      <td>1.000000</td>\n",
       "      <td>0.770138</td>\n",
       "      <td>0.986968</td>\n",
       "      <td>0.099738</td>\n",
       "      <td>0.055436</td>\n",
       "      <td>0.066838</td>\n",
       "      <td>0.009621</td>\n",
       "      <td>...</td>\n",
       "      <td>0.000869</td>\n",
       "      <td>0.014314</td>\n",
       "      <td>0.007987</td>\n",
       "      <td>0.027255</td>\n",
       "      <td>0.005799</td>\n",
       "      <td>0.046644</td>\n",
       "      <td>0.009756</td>\n",
       "      <td>0.007373</td>\n",
       "      <td>0.058256</td>\n",
       "      <td>0.004308</td>\n",
       "    </tr>\n",
       "    <tr>\n",
       "      <th>AMT_ANNUITY</th>\n",
       "      <td>0.000433</td>\n",
       "      <td>0.021374</td>\n",
       "      <td>0.191657</td>\n",
       "      <td>0.770138</td>\n",
       "      <td>1.000000</td>\n",
       "      <td>0.775109</td>\n",
       "      <td>0.118429</td>\n",
       "      <td>0.009445</td>\n",
       "      <td>0.104332</td>\n",
       "      <td>0.038514</td>\n",
       "      <td>...</td>\n",
       "      <td>0.002166</td>\n",
       "      <td>0.015589</td>\n",
       "      <td>0.010077</td>\n",
       "      <td>0.035318</td>\n",
       "      <td>0.005968</td>\n",
       "      <td>0.054988</td>\n",
       "      <td>0.009189</td>\n",
       "      <td>0.007711</td>\n",
       "      <td>0.068145</td>\n",
       "      <td>0.003910</td>\n",
       "    </tr>\n",
       "  </tbody>\n",
       "</table>\n",
       "<p>5 rows × 1845 columns</p>\n",
       "</div>"
      ],
      "text/plain": [
       "                  SK_ID_CURR  CNT_CHILDREN  AMT_INCOME_TOTAL  AMT_CREDIT  \\\n",
       "SK_ID_CURR          1.000000      0.001129          0.001820    0.000343   \n",
       "CNT_CHILDREN        0.001129      1.000000          0.012882    0.002145   \n",
       "AMT_INCOME_TOTAL    0.001820      0.012882          1.000000    0.156870   \n",
       "AMT_CREDIT          0.000343      0.002145          0.156870    1.000000   \n",
       "AMT_ANNUITY         0.000433      0.021374          0.191657    0.770138   \n",
       "\n",
       "                  AMT_ANNUITY  AMT_GOODS_PRICE  REGION_POPULATION_RELATIVE  \\\n",
       "SK_ID_CURR           0.000433         0.000232                    0.000849   \n",
       "CNT_CHILDREN         0.021374         0.001827                    0.025573   \n",
       "AMT_INCOME_TOTAL     0.191657         0.159610                    0.074796   \n",
       "AMT_CREDIT           0.770138         0.986968                    0.099738   \n",
       "AMT_ANNUITY          1.000000         0.775109                    0.118429   \n",
       "\n",
       "                  DAYS_BIRTH  DAYS_EMPLOYED  DAYS_REGISTRATION  ...  \\\n",
       "SK_ID_CURR          0.001500       0.001366           0.000973  ...   \n",
       "CNT_CHILDREN        0.330938       0.239818           0.183395  ...   \n",
       "AMT_INCOME_TOTAL    0.027261       0.064223           0.027805  ...   \n",
       "AMT_CREDIT          0.055436       0.066838           0.009621  ...   \n",
       "AMT_ANNUITY         0.009445       0.104332           0.038514  ...   \n",
       "\n",
       "                  HOUSETYPE_MODE_terraced house  WALLSMATERIAL_MODE_Block  \\\n",
       "SK_ID_CURR                             0.000553                  0.002073   \n",
       "CNT_CHILDREN                           0.001830                  0.005272   \n",
       "AMT_INCOME_TOTAL                       0.000718                  0.011696   \n",
       "AMT_CREDIT                             0.000869                  0.014314   \n",
       "AMT_ANNUITY                            0.002166                  0.015589   \n",
       "\n",
       "                  WALLSMATERIAL_MODE_Mixed  WALLSMATERIAL_MODE_Monolithic  \\\n",
       "SK_ID_CURR                        0.000976                       0.000072   \n",
       "CNT_CHILDREN                      0.000709                       0.001607   \n",
       "AMT_INCOME_TOTAL                  0.006149                       0.023886   \n",
       "AMT_CREDIT                        0.007987                       0.027255   \n",
       "AMT_ANNUITY                       0.010077                       0.035318   \n",
       "\n",
       "                  WALLSMATERIAL_MODE_Others  WALLSMATERIAL_MODE_Panel  \\\n",
       "SK_ID_CURR                         0.001396                  0.002300   \n",
       "CNT_CHILDREN                       0.002032                  0.020892   \n",
       "AMT_INCOME_TOTAL                   0.003886                  0.032753   \n",
       "AMT_CREDIT                         0.005799                  0.046644   \n",
       "AMT_ANNUITY                        0.005968                  0.054988   \n",
       "\n",
       "                  WALLSMATERIAL_MODE_Stone, brick  WALLSMATERIAL_MODE_Wooden  \\\n",
       "SK_ID_CURR                               0.001281                   0.000270   \n",
       "CNT_CHILDREN                             0.025088                   0.011036   \n",
       "AMT_INCOME_TOTAL                         0.016523                   0.003369   \n",
       "AMT_CREDIT                               0.009756                   0.007373   \n",
       "AMT_ANNUITY                              0.009189                   0.007711   \n",
       "\n",
       "                  EMERGENCYSTATE_MODE_No  EMERGENCYSTATE_MODE_Yes  \n",
       "SK_ID_CURR                      0.000510                 0.002549  \n",
       "CNT_CHILDREN                    0.038644                 0.004525  \n",
       "AMT_INCOME_TOTAL                0.050174                 0.002894  \n",
       "AMT_CREDIT                      0.058256                 0.004308  \n",
       "AMT_ANNUITY                     0.068145                 0.003910  \n",
       "\n",
       "[5 rows x 1845 columns]"
      ]
     },
     "execution_count": 35,
     "metadata": {},
     "output_type": "execute_result"
    }
   ],
   "source": [
    "# Threshold for removing correlated variables\n",
    "\n",
    "threshold = 0.9\n",
    "\n",
    "# Absolute value correlation matrix\n",
    "corr_matrix = df_train.corr().abs()\n",
    "corr_matrix.head()"
   ]
  },
  {
   "cell_type": "code",
   "execution_count": 36,
   "metadata": {},
   "outputs": [
    {
     "data": {
      "text/html": [
       "<div>\n",
       "<style scoped>\n",
       "    .dataframe tbody tr th:only-of-type {\n",
       "        vertical-align: middle;\n",
       "    }\n",
       "\n",
       "    .dataframe tbody tr th {\n",
       "        vertical-align: top;\n",
       "    }\n",
       "\n",
       "    .dataframe thead th {\n",
       "        text-align: right;\n",
       "    }\n",
       "</style>\n",
       "<table border=\"1\" class=\"dataframe\">\n",
       "  <thead>\n",
       "    <tr style=\"text-align: right;\">\n",
       "      <th></th>\n",
       "      <th>SK_ID_CURR</th>\n",
       "      <th>CNT_CHILDREN</th>\n",
       "      <th>AMT_INCOME_TOTAL</th>\n",
       "      <th>AMT_CREDIT</th>\n",
       "      <th>AMT_ANNUITY</th>\n",
       "      <th>AMT_GOODS_PRICE</th>\n",
       "      <th>REGION_POPULATION_RELATIVE</th>\n",
       "      <th>DAYS_BIRTH</th>\n",
       "      <th>DAYS_EMPLOYED</th>\n",
       "      <th>DAYS_REGISTRATION</th>\n",
       "      <th>...</th>\n",
       "      <th>HOUSETYPE_MODE_terraced house</th>\n",
       "      <th>WALLSMATERIAL_MODE_Block</th>\n",
       "      <th>WALLSMATERIAL_MODE_Mixed</th>\n",
       "      <th>WALLSMATERIAL_MODE_Monolithic</th>\n",
       "      <th>WALLSMATERIAL_MODE_Others</th>\n",
       "      <th>WALLSMATERIAL_MODE_Panel</th>\n",
       "      <th>WALLSMATERIAL_MODE_Stone, brick</th>\n",
       "      <th>WALLSMATERIAL_MODE_Wooden</th>\n",
       "      <th>EMERGENCYSTATE_MODE_No</th>\n",
       "      <th>EMERGENCYSTATE_MODE_Yes</th>\n",
       "    </tr>\n",
       "  </thead>\n",
       "  <tbody>\n",
       "    <tr>\n",
       "      <th>SK_ID_CURR</th>\n",
       "      <td>NaN</td>\n",
       "      <td>0.001129</td>\n",
       "      <td>0.001820</td>\n",
       "      <td>0.000343</td>\n",
       "      <td>0.000433</td>\n",
       "      <td>0.000232</td>\n",
       "      <td>0.000849</td>\n",
       "      <td>0.001500</td>\n",
       "      <td>0.001366</td>\n",
       "      <td>0.000973</td>\n",
       "      <td>...</td>\n",
       "      <td>0.000553</td>\n",
       "      <td>0.002073</td>\n",
       "      <td>0.000976</td>\n",
       "      <td>0.000072</td>\n",
       "      <td>0.001396</td>\n",
       "      <td>0.002300</td>\n",
       "      <td>0.001281</td>\n",
       "      <td>0.000270</td>\n",
       "      <td>0.000510</td>\n",
       "      <td>0.002549</td>\n",
       "    </tr>\n",
       "    <tr>\n",
       "      <th>CNT_CHILDREN</th>\n",
       "      <td>NaN</td>\n",
       "      <td>NaN</td>\n",
       "      <td>0.012882</td>\n",
       "      <td>0.002145</td>\n",
       "      <td>0.021374</td>\n",
       "      <td>0.001827</td>\n",
       "      <td>0.025573</td>\n",
       "      <td>0.330938</td>\n",
       "      <td>0.239818</td>\n",
       "      <td>0.183395</td>\n",
       "      <td>...</td>\n",
       "      <td>0.001830</td>\n",
       "      <td>0.005272</td>\n",
       "      <td>0.000709</td>\n",
       "      <td>0.001607</td>\n",
       "      <td>0.002032</td>\n",
       "      <td>0.020892</td>\n",
       "      <td>0.025088</td>\n",
       "      <td>0.011036</td>\n",
       "      <td>0.038644</td>\n",
       "      <td>0.004525</td>\n",
       "    </tr>\n",
       "    <tr>\n",
       "      <th>AMT_INCOME_TOTAL</th>\n",
       "      <td>NaN</td>\n",
       "      <td>NaN</td>\n",
       "      <td>NaN</td>\n",
       "      <td>0.156870</td>\n",
       "      <td>0.191657</td>\n",
       "      <td>0.159610</td>\n",
       "      <td>0.074796</td>\n",
       "      <td>0.027261</td>\n",
       "      <td>0.064223</td>\n",
       "      <td>0.027805</td>\n",
       "      <td>...</td>\n",
       "      <td>0.000718</td>\n",
       "      <td>0.011696</td>\n",
       "      <td>0.006149</td>\n",
       "      <td>0.023886</td>\n",
       "      <td>0.003886</td>\n",
       "      <td>0.032753</td>\n",
       "      <td>0.016523</td>\n",
       "      <td>0.003369</td>\n",
       "      <td>0.050174</td>\n",
       "      <td>0.002894</td>\n",
       "    </tr>\n",
       "    <tr>\n",
       "      <th>AMT_CREDIT</th>\n",
       "      <td>NaN</td>\n",
       "      <td>NaN</td>\n",
       "      <td>NaN</td>\n",
       "      <td>NaN</td>\n",
       "      <td>0.770138</td>\n",
       "      <td>0.986968</td>\n",
       "      <td>0.099738</td>\n",
       "      <td>0.055436</td>\n",
       "      <td>0.066838</td>\n",
       "      <td>0.009621</td>\n",
       "      <td>...</td>\n",
       "      <td>0.000869</td>\n",
       "      <td>0.014314</td>\n",
       "      <td>0.007987</td>\n",
       "      <td>0.027255</td>\n",
       "      <td>0.005799</td>\n",
       "      <td>0.046644</td>\n",
       "      <td>0.009756</td>\n",
       "      <td>0.007373</td>\n",
       "      <td>0.058256</td>\n",
       "      <td>0.004308</td>\n",
       "    </tr>\n",
       "    <tr>\n",
       "      <th>AMT_ANNUITY</th>\n",
       "      <td>NaN</td>\n",
       "      <td>NaN</td>\n",
       "      <td>NaN</td>\n",
       "      <td>NaN</td>\n",
       "      <td>NaN</td>\n",
       "      <td>0.775109</td>\n",
       "      <td>0.118429</td>\n",
       "      <td>0.009445</td>\n",
       "      <td>0.104332</td>\n",
       "      <td>0.038514</td>\n",
       "      <td>...</td>\n",
       "      <td>0.002166</td>\n",
       "      <td>0.015589</td>\n",
       "      <td>0.010077</td>\n",
       "      <td>0.035318</td>\n",
       "      <td>0.005968</td>\n",
       "      <td>0.054988</td>\n",
       "      <td>0.009189</td>\n",
       "      <td>0.007711</td>\n",
       "      <td>0.068145</td>\n",
       "      <td>0.003910</td>\n",
       "    </tr>\n",
       "  </tbody>\n",
       "</table>\n",
       "<p>5 rows × 1845 columns</p>\n",
       "</div>"
      ],
      "text/plain": [
       "                  SK_ID_CURR  CNT_CHILDREN  AMT_INCOME_TOTAL  AMT_CREDIT  \\\n",
       "SK_ID_CURR               NaN      0.001129          0.001820    0.000343   \n",
       "CNT_CHILDREN             NaN           NaN          0.012882    0.002145   \n",
       "AMT_INCOME_TOTAL         NaN           NaN               NaN    0.156870   \n",
       "AMT_CREDIT               NaN           NaN               NaN         NaN   \n",
       "AMT_ANNUITY              NaN           NaN               NaN         NaN   \n",
       "\n",
       "                  AMT_ANNUITY  AMT_GOODS_PRICE  REGION_POPULATION_RELATIVE  \\\n",
       "SK_ID_CURR           0.000433         0.000232                    0.000849   \n",
       "CNT_CHILDREN         0.021374         0.001827                    0.025573   \n",
       "AMT_INCOME_TOTAL     0.191657         0.159610                    0.074796   \n",
       "AMT_CREDIT           0.770138         0.986968                    0.099738   \n",
       "AMT_ANNUITY               NaN         0.775109                    0.118429   \n",
       "\n",
       "                  DAYS_BIRTH  DAYS_EMPLOYED  DAYS_REGISTRATION  ...  \\\n",
       "SK_ID_CURR          0.001500       0.001366           0.000973  ...   \n",
       "CNT_CHILDREN        0.330938       0.239818           0.183395  ...   \n",
       "AMT_INCOME_TOTAL    0.027261       0.064223           0.027805  ...   \n",
       "AMT_CREDIT          0.055436       0.066838           0.009621  ...   \n",
       "AMT_ANNUITY         0.009445       0.104332           0.038514  ...   \n",
       "\n",
       "                  HOUSETYPE_MODE_terraced house  WALLSMATERIAL_MODE_Block  \\\n",
       "SK_ID_CURR                             0.000553                  0.002073   \n",
       "CNT_CHILDREN                           0.001830                  0.005272   \n",
       "AMT_INCOME_TOTAL                       0.000718                  0.011696   \n",
       "AMT_CREDIT                             0.000869                  0.014314   \n",
       "AMT_ANNUITY                            0.002166                  0.015589   \n",
       "\n",
       "                  WALLSMATERIAL_MODE_Mixed  WALLSMATERIAL_MODE_Monolithic  \\\n",
       "SK_ID_CURR                        0.000976                       0.000072   \n",
       "CNT_CHILDREN                      0.000709                       0.001607   \n",
       "AMT_INCOME_TOTAL                  0.006149                       0.023886   \n",
       "AMT_CREDIT                        0.007987                       0.027255   \n",
       "AMT_ANNUITY                       0.010077                       0.035318   \n",
       "\n",
       "                  WALLSMATERIAL_MODE_Others  WALLSMATERIAL_MODE_Panel  \\\n",
       "SK_ID_CURR                         0.001396                  0.002300   \n",
       "CNT_CHILDREN                       0.002032                  0.020892   \n",
       "AMT_INCOME_TOTAL                   0.003886                  0.032753   \n",
       "AMT_CREDIT                         0.005799                  0.046644   \n",
       "AMT_ANNUITY                        0.005968                  0.054988   \n",
       "\n",
       "                  WALLSMATERIAL_MODE_Stone, brick  WALLSMATERIAL_MODE_Wooden  \\\n",
       "SK_ID_CURR                               0.001281                   0.000270   \n",
       "CNT_CHILDREN                             0.025088                   0.011036   \n",
       "AMT_INCOME_TOTAL                         0.016523                   0.003369   \n",
       "AMT_CREDIT                               0.009756                   0.007373   \n",
       "AMT_ANNUITY                              0.009189                   0.007711   \n",
       "\n",
       "                  EMERGENCYSTATE_MODE_No  EMERGENCYSTATE_MODE_Yes  \n",
       "SK_ID_CURR                      0.000510                 0.002549  \n",
       "CNT_CHILDREN                    0.038644                 0.004525  \n",
       "AMT_INCOME_TOTAL                0.050174                 0.002894  \n",
       "AMT_CREDIT                      0.058256                 0.004308  \n",
       "AMT_ANNUITY                     0.068145                 0.003910  \n",
       "\n",
       "[5 rows x 1845 columns]"
      ]
     },
     "execution_count": 36,
     "metadata": {},
     "output_type": "execute_result"
    }
   ],
   "source": [
    "# Upper triangle of correlations\n",
    "upper = corr_matrix.where(np.triu(np.ones(corr_matrix.shape), k=1).astype(np.bool))\n",
    "upper.head()"
   ]
  },
  {
   "cell_type": "code",
   "execution_count": 37,
   "metadata": {},
   "outputs": [
    {
     "name": "stdout",
     "output_type": "stream",
     "text": [
      "There are 986 columns to remove.\n"
     ]
    }
   ],
   "source": [
    "# Select columns with correlations above threshold\n",
    "\n",
    "to_drop = [column for column in upper.columns if any(upper[column] > threshold)]\n",
    "\n",
    "print('There are %d columns to remove.' % (len(to_drop)))"
   ]
  },
  {
   "cell_type": "code",
   "execution_count": 38,
   "metadata": {},
   "outputs": [
    {
     "name": "stdout",
     "output_type": "stream",
     "text": [
      "Training shape:  (307511, 859)\n",
      "Testing shape:  (48744, 859)\n"
     ]
    }
   ],
   "source": [
    "df_train = df_train.drop(columns = to_drop)\n",
    "df_test = df_test.drop(columns = to_drop)\n",
    "\n",
    "print('Training shape: ', df_train.shape)\n",
    "print('Testing shape: ', df_test.shape)"
   ]
  },
  {
   "cell_type": "code",
   "execution_count": 39,
   "metadata": {},
   "outputs": [],
   "source": [
    "df_train.to_csv('data/m_train_combined.csv', index=False)\n",
    "df_test.to_csv('data/m_test_combined.csv', index=False)"
   ]
  },
  {
   "cell_type": "markdown",
   "metadata": {},
   "source": [
    "# Remove Missing Values"
   ]
  },
  {
   "cell_type": "code",
   "execution_count": 41,
   "metadata": {},
   "outputs": [
    {
     "data": {
      "text/plain": [
       "client_credit_AMT_PAYMENT_CURRENT_max_mean_y         0.801438\n",
       "client_credit_AMT_PAYMENT_CURRENT_min_max_x          0.801438\n",
       "client_credit_AMT_PAYMENT_CURRENT_mean_mean_y        0.801438\n",
       "client_credit_CNT_DRAWINGS_POS_CURRENT_mean_max_x    0.801178\n",
       "client_credit_AMT_DRAWINGS_POS_CURRENT_min_mean_x    0.801178\n",
       "dtype: float64"
      ]
     },
     "execution_count": 41,
     "metadata": {},
     "output_type": "execute_result"
    }
   ],
   "source": [
    "# Train missing values (in percent)\n",
    "train_missing = (df_train.isnull().sum() / len(df_train)).sort_values(ascending = False)\n",
    "train_missing.head()"
   ]
  },
  {
   "cell_type": "code",
   "execution_count": 42,
   "metadata": {},
   "outputs": [
    {
     "data": {
      "text/plain": [
       "client_credit_CNT_DRAWINGS_ATM_CURRENT_mean_max_x    0.773223\n",
       "client_credit_CNT_DRAWINGS_POS_CURRENT_min_min_x     0.773223\n",
       "client_credit_CNT_DRAWINGS_ATM_CURRENT_min_min_y     0.773223\n",
       "client_credit_AMT_DRAWINGS_POS_CURRENT_mean_min_x    0.773223\n",
       "client_credit_CNT_DRAWINGS_POS_CURRENT_max_max_x     0.773223\n",
       "dtype: float64"
      ]
     },
     "execution_count": 42,
     "metadata": {},
     "output_type": "execute_result"
    }
   ],
   "source": [
    "# Test missing values (in percent)\n",
    "test_missing = (df_test.isnull().sum() / len(df_test)).sort_values(ascending = False)\n",
    "test_missing.head()"
   ]
  },
  {
   "cell_type": "code",
   "execution_count": 43,
   "metadata": {},
   "outputs": [
    {
     "name": "stdout",
     "output_type": "stream",
     "text": [
      "There are 20 columns with more than 75% missing values\n"
     ]
    }
   ],
   "source": [
    "# Identify missing values above threshold\n",
    "\n",
    "train_missing = train_missing.index[train_missing > 0.75]\n",
    "test_missing = test_missing.index[test_missing > 0.75]\n",
    "\n",
    "all_missing = list(set(set(train_missing) | set(test_missing)))\n",
    "print('There are %d columns with more than 75%% missing values' % len(all_missing))"
   ]
  },
  {
   "cell_type": "code",
   "execution_count": 51,
   "metadata": {},
   "outputs": [
    {
     "name": "stdout",
     "output_type": "stream",
     "text": [
      "Training set full shape:  (307511, 839)\n",
      "Testing set full shape:  (48744, 839)\n"
     ]
    }
   ],
   "source": [
    "# Need to save the labels because aligning will remove this column\n",
    "\n",
    "train_labels = train_labels\n",
    "train_ids = df_train['SK_ID_CURR']\n",
    "test_ids = df_test['SK_ID_CURR']\n",
    "\n",
    "df_train = pd.get_dummies(df_train.drop(columns = all_missing))\n",
    "df_test = pd.get_dummies(df_test.drop(columns = all_missing))\n",
    "\n",
    "df_train, df_test = df_train.align(df_test, join = 'inner', axis = 1)\n",
    "\n",
    "print('Training set full shape: ', df_train.shape)\n",
    "print('Testing set full shape: ' , df_test.shape)"
   ]
  },
  {
   "cell_type": "code",
   "execution_count": 50,
   "metadata": {},
   "outputs": [
    {
     "data": {
      "text/plain": [
       "(307511,)"
      ]
     },
     "execution_count": 50,
     "metadata": {},
     "output_type": "execute_result"
    }
   ],
   "source": [
    "train_labels.shape"
   ]
  },
  {
   "cell_type": "code",
   "execution_count": 52,
   "metadata": {},
   "outputs": [],
   "source": [
    "df_train = df_train.drop(columns = ['SK_ID_CURR'])\n",
    "df_test = df_test.drop(columns = ['SK_ID_CURR'])"
   ]
  },
  {
   "cell_type": "code",
   "execution_count": 53,
   "metadata": {},
   "outputs": [
    {
     "data": {
      "text/plain": [
       "(307511, 838)"
      ]
     },
     "execution_count": 53,
     "metadata": {},
     "output_type": "execute_result"
    }
   ],
   "source": [
    "df_train.shape"
   ]
  },
  {
   "cell_type": "markdown",
   "metadata": {},
   "source": [
    "# Feature Selection through Feature Importances"
   ]
  },
  {
   "cell_type": "code",
   "execution_count": 55,
   "metadata": {},
   "outputs": [],
   "source": [
    "# Initialize an empty array to hold feature importances\n",
    "feature_importances = np.zeros(df_train.shape[1])\n",
    "\n",
    "# Create the model with several hyperparameters\n",
    "model = lgb.LGBMClassifier(objective='binary', boosting_type = 'goss', \n",
    "                           n_estimators = 10000, class_weight = 'balanced')"
   ]
  },
  {
   "cell_type": "code",
   "execution_count": 58,
   "metadata": {},
   "outputs": [],
   "source": [
    "df_train.columns = [\"\".join (c if c.isalnum() else \"_\" for c in str(x)) for x in df_train.columns]"
   ]
  },
  {
   "cell_type": "code",
   "execution_count": 66,
   "metadata": {},
   "outputs": [],
   "source": [
    "df_test.columns = [\"\".join (c if c.isalnum() else \"_\" for c in str(x)) for x in df_test.columns]"
   ]
  },
  {
   "cell_type": "code",
   "execution_count": 59,
   "metadata": {},
   "outputs": [
    {
     "name": "stdout",
     "output_type": "stream",
     "text": [
      "Training until validation scores don't improve for 100 rounds\n",
      "[200]\tvalid_0's auc: 0.780352\tvalid_0's binary_logloss: 0.5096\n",
      "Early stopping, best iteration is:\n",
      "[168]\tvalid_0's auc: 0.78109\tvalid_0's binary_logloss: 0.517405\n",
      "Training until validation scores don't improve for 100 rounds\n",
      "[200]\tvalid_0's auc: 0.782784\tvalid_0's binary_logloss: 0.50862\n",
      "Early stopping, best iteration is:\n",
      "[157]\tvalid_0's auc: 0.783923\tvalid_0's binary_logloss: 0.518568\n"
     ]
    }
   ],
   "source": [
    "# Fit the model twice to avoid overfitting\n",
    "\n",
    "for i in range(2):\n",
    "    \n",
    "    # Split into training and validation set\n",
    "    train_features, valid_features, train_y, valid_y \\\n",
    "          = train_test_split(df_train, train_labels, test_size = 0.25, random_state = i)\n",
    "    \n",
    "    # Train using early stopping\n",
    "    model.fit(train_features, train_y, early_stopping_rounds=100, eval_set = [(valid_features, valid_y)], \n",
    "              eval_metric = 'auc', verbose = 200)\n",
    "    \n",
    "    # Record the feature importances\n",
    "    feature_importances += model.feature_importances_"
   ]
  },
  {
   "cell_type": "code",
   "execution_count": 61,
   "metadata": {},
   "outputs": [
    {
     "data": {
      "text/html": [
       "<div>\n",
       "<style scoped>\n",
       "    .dataframe tbody tr th:only-of-type {\n",
       "        vertical-align: middle;\n",
       "    }\n",
       "\n",
       "    .dataframe tbody tr th {\n",
       "        vertical-align: top;\n",
       "    }\n",
       "\n",
       "    .dataframe thead th {\n",
       "        text-align: right;\n",
       "    }\n",
       "</style>\n",
       "<table border=\"1\" class=\"dataframe\">\n",
       "  <thead>\n",
       "    <tr style=\"text-align: right;\">\n",
       "      <th></th>\n",
       "      <th>feature</th>\n",
       "      <th>importance</th>\n",
       "    </tr>\n",
       "  </thead>\n",
       "  <tbody>\n",
       "    <tr>\n",
       "      <th>24</th>\n",
       "      <td>EXT_SOURCE_1</td>\n",
       "      <td>81.50</td>\n",
       "    </tr>\n",
       "    <tr>\n",
       "      <th>25</th>\n",
       "      <td>EXT_SOURCE_2</td>\n",
       "      <td>70.50</td>\n",
       "    </tr>\n",
       "    <tr>\n",
       "      <th>26</th>\n",
       "      <td>EXT_SOURCE_3</td>\n",
       "      <td>63.25</td>\n",
       "    </tr>\n",
       "    <tr>\n",
       "      <th>5</th>\n",
       "      <td>DAYS_BIRTH</td>\n",
       "      <td>53.00</td>\n",
       "    </tr>\n",
       "    <tr>\n",
       "      <th>496</th>\n",
       "      <td>client_installments_AMT_PAYMENT_min_sum</td>\n",
       "      <td>48.25</td>\n",
       "    </tr>\n",
       "  </tbody>\n",
       "</table>\n",
       "</div>"
      ],
      "text/plain": [
       "                                     feature  importance\n",
       "24                              EXT_SOURCE_1       81.50\n",
       "25                              EXT_SOURCE_2       70.50\n",
       "26                              EXT_SOURCE_3       63.25\n",
       "5                                 DAYS_BIRTH       53.00\n",
       "496  client_installments_AMT_PAYMENT_min_sum       48.25"
      ]
     },
     "execution_count": 61,
     "metadata": {},
     "output_type": "execute_result"
    }
   ],
   "source": [
    "# Make sure to average feature importances! \n",
    "\n",
    "feature_importances = feature_importances / 2\n",
    "feature_importances = pd.DataFrame({'feature': list(df_train.columns), 'importance': feature_importances}).sort_values('importance', ascending = False)\n",
    "\n",
    "feature_importances.head()"
   ]
  },
  {
   "cell_type": "code",
   "execution_count": 62,
   "metadata": {},
   "outputs": [
    {
     "name": "stdout",
     "output_type": "stream",
     "text": [
      "There are 286 features with 0.0 importance\n"
     ]
    },
    {
     "data": {
      "text/html": [
       "<div>\n",
       "<style scoped>\n",
       "    .dataframe tbody tr th:only-of-type {\n",
       "        vertical-align: middle;\n",
       "    }\n",
       "\n",
       "    .dataframe tbody tr th {\n",
       "        vertical-align: top;\n",
       "    }\n",
       "\n",
       "    .dataframe thead th {\n",
       "        text-align: right;\n",
       "    }\n",
       "</style>\n",
       "<table border=\"1\" class=\"dataframe\">\n",
       "  <thead>\n",
       "    <tr style=\"text-align: right;\">\n",
       "      <th></th>\n",
       "      <th>feature</th>\n",
       "      <th>importance</th>\n",
       "    </tr>\n",
       "  </thead>\n",
       "  <tbody>\n",
       "    <tr>\n",
       "      <th>274</th>\n",
       "      <td>client_credit_AMT_DRAWINGS_ATM_CURRENT_min_sum_y</td>\n",
       "      <td>0.0</td>\n",
       "    </tr>\n",
       "    <tr>\n",
       "      <th>278</th>\n",
       "      <td>df_previous_NAME_CASH_LOAN_PURPOSE_Buying_a_ne...</td>\n",
       "      <td>0.0</td>\n",
       "    </tr>\n",
       "    <tr>\n",
       "      <th>280</th>\n",
       "      <td>df_previous_NAME_CLIENT_TYPE_XNA_mean</td>\n",
       "      <td>0.0</td>\n",
       "    </tr>\n",
       "    <tr>\n",
       "      <th>283</th>\n",
       "      <td>df_previous_NAME_PAYMENT_TYPE_Non_cash_from_yo...</td>\n",
       "      <td>0.0</td>\n",
       "    </tr>\n",
       "    <tr>\n",
       "      <th>837</th>\n",
       "      <td>EMERGENCYSTATE_MODE_Yes</td>\n",
       "      <td>0.0</td>\n",
       "    </tr>\n",
       "  </tbody>\n",
       "</table>\n",
       "</div>"
      ],
      "text/plain": [
       "                                               feature  importance\n",
       "274   client_credit_AMT_DRAWINGS_ATM_CURRENT_min_sum_y         0.0\n",
       "278  df_previous_NAME_CASH_LOAN_PURPOSE_Buying_a_ne...         0.0\n",
       "280              df_previous_NAME_CLIENT_TYPE_XNA_mean         0.0\n",
       "283  df_previous_NAME_PAYMENT_TYPE_Non_cash_from_yo...         0.0\n",
       "837                            EMERGENCYSTATE_MODE_Yes         0.0"
      ]
     },
     "execution_count": 62,
     "metadata": {},
     "output_type": "execute_result"
    }
   ],
   "source": [
    "# Find the features with zero importance\n",
    "\n",
    "zero_features = list(feature_importances[feature_importances['importance'] == 0.0]['feature'])\n",
    "print('There are %d features with 0.0 importance' % len(zero_features))\n",
    "feature_importances.tail()"
   ]
  },
  {
   "cell_type": "code",
   "execution_count": 63,
   "metadata": {},
   "outputs": [],
   "source": [
    "def plot_feature_importances(df, threshold = 0.9):\n",
    "    \n",
    "    plt.rcParams['font.size'] = 18\n",
    "    \n",
    "    # Sort features according to importance\n",
    "    df = df.sort_values('importance', ascending = False).reset_index()\n",
    "    \n",
    "    # Normalize the feature importances to add up to one\n",
    "    df['importance_normalized'] = df['importance'] / df['importance'].sum()\n",
    "    df['cumulative_importance'] = np.cumsum(df['importance_normalized'])\n",
    "\n",
    "    # Make a horizontal bar chart of feature importances\n",
    "    plt.figure(figsize = (10, 6))\n",
    "    ax = plt.subplot()\n",
    "    \n",
    "    # Need to reverse the index to plot most important on top\n",
    "    ax.barh(list(reversed(list(df.index[:15]))), \n",
    "            df['importance_normalized'].head(15), \n",
    "            align = 'center', edgecolor = 'k')\n",
    "    \n",
    "    # Set the yticks and labels\n",
    "    ax.set_yticks(list(reversed(list(df.index[:15]))))\n",
    "    ax.set_yticklabels(df['feature'].head(15))\n",
    "    \n",
    "    # Plot labeling\n",
    "    plt.xlabel('Normalized Importance'); plt.title('Feature Importances')\n",
    "    plt.show()\n",
    "    \n",
    "    # Cumulative importance plot\n",
    "    plt.figure(figsize = (8, 6))\n",
    "    plt.plot(list(range(len(df))), df['cumulative_importance'], 'r-')\n",
    "    plt.xlabel('Number of Features'); plt.ylabel('Cumulative Importance'); \n",
    "    plt.title('Cumulative Feature Importance');\n",
    "    plt.show();\n",
    "    \n",
    "    importance_index = np.min(np.where(df['cumulative_importance'] > threshold))\n",
    "    print('%d features required for %0.2f of cumulative importance' % (importance_index + 1, threshold))\n",
    "    \n",
    "    return df"
   ]
  },
  {
   "cell_type": "code",
   "execution_count": 64,
   "metadata": {},
   "outputs": [
    {
     "data": {
      "image/png": "[encoded data removed]",
      "text/plain": [
       "<Figure size 720x432 with 1 Axes>"
      ]
     },
     "metadata": {
      "needs_background": "light"
     },
     "output_type": "display_data"
    },
    {
     "data": {
      "image/png": "[encoded data removed]",
      "text/plain": [
       "<Figure size 576x432 with 1 Axes>"
      ]
     },
     "metadata": {
      "needs_background": "light"
     },
     "output_type": "display_data"
    },
    {
     "name": "stdout",
     "output_type": "stream",
     "text": [
      "282 features required for 0.90 of cumulative importance\n"
     ]
    }
   ],
   "source": [
    "norm_feature_importances = plot_feature_importances(feature_importances)"
   ]
  },
  {
   "cell_type": "code",
   "execution_count": 68,
   "metadata": {},
   "outputs": [
    {
     "name": "stdout",
     "output_type": "stream",
     "text": [
      "Training shape:  (307511, 552)\n",
      "Testing shape:  (48744, 552)\n"
     ]
    }
   ],
   "source": [
    "#df_train = df_train.drop(columns = zero_features)\n",
    "df_test = df_test.drop(columns = zero_features)\n",
    "\n",
    "print('Training shape: ', df_train.shape)\n",
    "print('Testing shape: ', df_test.shape)"
   ]
  },
  {
   "cell_type": "code",
   "execution_count": 72,
   "metadata": {},
   "outputs": [],
   "source": [
    "def identify_zero_importance_features(train, train_labels, iterations = 2):\n",
    "    \n",
    "    # Initialize an empty array to hold feature importances\n",
    "    feature_importances = np.zeros(train.shape[1])\n",
    "\n",
    "    # Create the model with several hyperparameters\n",
    "    model = lgb.LGBMClassifier(objective='binary', boosting_type = 'goss', n_estimators = 10000, \n",
    "                               class_weight = 'balanced')\n",
    "    \n",
    "    # Fit the model multiple times to avoid overfitting\n",
    "    for i in range(iterations):\n",
    "\n",
    "        # Split into training and validation set\n",
    "        train_features, valid_features, train_y, valid_y = train_test_split(train, train_labels, test_size = 0.25, random_state = i)\n",
    "\n",
    "        # Train using early stopping\n",
    "        model.fit(train_features, train_y, early_stopping_rounds=100, eval_set = [(valid_features, valid_y)], \n",
    "                  eval_metric = 'auc', verbose = 200)\n",
    "\n",
    "        # Record the feature importances\n",
    "        feature_importances += model.feature_importances_ / iterations\n",
    "        \n",
    "    feature_importances = pd.DataFrame({'feature': list(train.columns), 'importance': feature_importances}).sort_values('importance', ascending = False)\n",
    "    \n",
    "    # Find the features with zero importance\n",
    "    zero_features = list(feature_importances[feature_importances['importance'] == 0.0]['feature'])\n",
    "    print('\\nThere are %d features with 0.0 importance' % len(zero_features))\n",
    "    \n",
    "    return zero_features, feature_importances"
   ]
  },
  {
   "cell_type": "code",
   "execution_count": 73,
   "metadata": {},
   "outputs": [
    {
     "name": "stdout",
     "output_type": "stream",
     "text": [
      "Training until validation scores don't improve for 100 rounds\n",
      "[200]\tvalid_0's auc: 0.781048\tvalid_0's binary_logloss: 0.509174\n",
      "Early stopping, best iteration is:\n",
      "[189]\tvalid_0's auc: 0.781217\tvalid_0's binary_logloss: 0.511646\n",
      "Training until validation scores don't improve for 100 rounds\n",
      "[200]\tvalid_0's auc: 0.783884\tvalid_0's binary_logloss: 0.507606\n",
      "Early stopping, best iteration is:\n",
      "[179]\tvalid_0's auc: 0.784143\tvalid_0's binary_logloss: 0.513038\n",
      "\n",
      "There are 0 features with 0.0 importance\n"
     ]
    }
   ],
   "source": [
    "second_round_zero_features, feature_importances = identify_zero_importance_features(df_train, train_labels)"
   ]
  },
  {
   "cell_type": "code",
   "execution_count": 74,
   "metadata": {},
   "outputs": [
    {
     "data": {
      "image/png": "[encoded data removed]",
      "text/plain": [
       "<Figure size 720x432 with 1 Axes>"
      ]
     },
     "metadata": {
      "needs_background": "light"
     },
     "output_type": "display_data"
    },
    {
     "data": {
      "image/png": "[encoded data removed]",
      "text/plain": [
       "<Figure size 576x432 with 1 Axes>"
      ]
     },
     "metadata": {
      "needs_background": "light"
     },
     "output_type": "display_data"
    },
    {
     "name": "stdout",
     "output_type": "stream",
     "text": [
      "357 features required for 0.95 of cumulative importance\n"
     ]
    }
   ],
   "source": [
    "norm_feature_importances = plot_feature_importances(feature_importances, threshold = 0.95)"
   ]
  },
  {
   "cell_type": "code",
   "execution_count": 75,
   "metadata": {},
   "outputs": [],
   "source": [
    "# Threshold for cumulative importance\n",
    "\n",
    "threshold = 0.95\n",
    "\n",
    "# Extract the features to keep\n",
    "\n",
    "features_to_keep = list(norm_feature_importances[norm_feature_importances['cumulative_importance'] < threshold]['feature'])\n",
    "\n",
    "# Create new datasets with smaller features\n",
    "df_train_small = df_train[features_to_keep]\n",
    "df_test_small = df_test[features_to_keep]"
   ]
  },
  {
   "cell_type": "code",
   "execution_count": 76,
   "metadata": {},
   "outputs": [],
   "source": [
    "df_train_small['TARGET'] = train_labels\n",
    "df_train_small['SK_ID_CURR'] = train_ids\n",
    "df_test_small['SK_ID_CURR'] = test_ids\n",
    "\n",
    "#train_small.to_csv('m_train_small.csv', index = False)\n",
    "#test_small.to_csv('m_test_small.csv', index = False)"
   ]
  },
  {
   "cell_type": "code",
   "execution_count": 77,
   "metadata": {},
   "outputs": [],
   "source": [
    "def model(features, test_features, encoding = 'ohe', n_folds = 5):\n",
    "    \n",
    "    # Extract the ids\n",
    "    train_ids = features['SK_ID_CURR']\n",
    "    test_ids = test_features['SK_ID_CURR']\n",
    "    \n",
    "    # Extract the labels for training\n",
    "    labels = features['TARGET']\n",
    "    \n",
    "    # Remove the ids and target\n",
    "    features = features.drop(columns = ['SK_ID_CURR', 'TARGET'])\n",
    "    test_features = test_features.drop(columns = ['SK_ID_CURR'])\n",
    "    \n",
    "    features = pd.get_dummies(features)\n",
    "    test_features = pd.get_dummies(test_features)\n",
    "\n",
    "    # Align the dataframes by the columns\n",
    "    features, test_features = features.align(test_features, join = 'inner', axis = 1)\n",
    "\n",
    "    # No categorical indices to record\n",
    "    cat_indices = 'auto'\n",
    "    \n",
    "    print('Training Data Shape: ', features.shape)\n",
    "    print('Testing Data Shape: ', test_features.shape)\n",
    "    \n",
    "    # Extract feature names\n",
    "    feature_names = list(features.columns)\n",
    "    \n",
    "    # Convert to np arrays\n",
    "    features = np.array(features)\n",
    "    test_features = np.array(test_features)\n",
    "    \n",
    "    # Create the kfold object\n",
    "    k_fold = KFold(n_splits = n_folds, shuffle = False, random_state = 50)\n",
    "    \n",
    "    # Empty array for feature importances\n",
    "    feature_importance_values = np.zeros(len(feature_names))\n",
    "    \n",
    "    # Empty array for test predictions\n",
    "    test_predictions = np.zeros(test_features.shape[0])\n",
    "    \n",
    "    # Empty array for out of fold validation predictions\n",
    "    out_of_fold = np.zeros(features.shape[0])\n",
    "    \n",
    "    # Lists for recording validation and training scores\n",
    "    valid_scores = []\n",
    "    train_scores = []\n",
    "    \n",
    "    i = 0\n",
    "    # Iterate through each fold\n",
    "    for train_indices, valid_indices in k_fold.split(features):\n",
    "        \n",
    "        print(i)\n",
    "        \n",
    "        # Training data for the fold\n",
    "        train_features, train_labels = features[train_indices], labels[train_indices]\n",
    "        # Validation data for the fold\n",
    "        valid_features, valid_labels = features[valid_indices], labels[valid_indices]\n",
    "        \n",
    "        # Create the model\n",
    "        model = lgb.LGBMClassifier(n_estimators=10000, objective = 'binary', \n",
    "                                   class_weight = 'balanced', learning_rate = 0.05, \n",
    "                                   reg_alpha = 0.1, reg_lambda = 0.1, \n",
    "                                   subsample = 0.8, n_jobs = -1, random_state = 50)\n",
    "        \n",
    "        # Train the model\n",
    "        model.fit(train_features, train_labels, eval_metric = 'auc',\n",
    "                  eval_set = [(valid_features, valid_labels), (train_features, train_labels)],\n",
    "                  eval_names = ['valid', 'train'], categorical_feature = cat_indices,\n",
    "                  early_stopping_rounds = 100, verbose = 200)\n",
    "        \n",
    "        # Record the best iteration\n",
    "        best_iteration = model.best_iteration_\n",
    "        \n",
    "        # Record the feature importances\n",
    "        feature_importance_values += model.feature_importances_ / k_fold.n_splits\n",
    "        \n",
    "        # Make predictions\n",
    "        test_predictions += model.predict_proba(test_features, num_iteration = best_iteration)[:, 1] / k_fold.n_splits\n",
    "        \n",
    "        # Record the out of fold predictions\n",
    "        out_of_fold[valid_indices] = model.predict_proba(valid_features, num_iteration = best_iteration)[:, 1]\n",
    "        \n",
    "        # Record the best score\n",
    "        valid_score = model.best_score_['valid']['auc']\n",
    "        train_score = model.best_score_['train']['auc']\n",
    "        \n",
    "        valid_scores.append(valid_score)\n",
    "        train_scores.append(train_score)\n",
    "        \n",
    "        # Clean up memory\n",
    "        gc.enable()\n",
    "        del model, train_features, valid_features\n",
    "        gc.collect()\n",
    "        \n",
    "        i +=1\n",
    "        \n",
    "    # Make the submission dataframe\n",
    "    submission = pd.DataFrame({'SK_ID_CURR': test_ids, 'TARGET': test_predictions})\n",
    "    \n",
    "    # Make the feature importance dataframe\n",
    "    feature_importances = pd.DataFrame({'feature': feature_names, 'importance': feature_importance_values})\n",
    "    \n",
    "    # Overall validation score\n",
    "    valid_auc = roc_auc_score(labels, out_of_fold)\n",
    "    \n",
    "    # Add the overall scores to the metrics\n",
    "    valid_scores.append(valid_auc)\n",
    "    train_scores.append(np.mean(train_scores))\n",
    "    \n",
    "    # Needed for creating dataframe of validation scores\n",
    "    fold_names = list(range(n_folds))\n",
    "    fold_names.append('overall')\n",
    "    \n",
    "    # Dataframe of validation scores\n",
    "    metrics = pd.DataFrame({'fold': fold_names,\n",
    "                            'train': train_scores,\n",
    "                            'valid': valid_scores}) \n",
    "    \n",
    "    return submission, feature_importances, metrics"
   ]
  },
  {
   "cell_type": "code",
   "execution_count": 78,
   "metadata": {},
   "outputs": [
    {
     "name": "stdout",
     "output_type": "stream",
     "text": [
      "Training Data Shape:  (307511, 356)\n",
      "Testing Data Shape:  (48744, 356)\n",
      "0\n",
      "Training until validation scores don't improve for 100 rounds\n",
      "[200]\ttrain's auc: 0.829478\ttrain's binary_logloss: 0.516045\tvalid's auc: 0.782565\tvalid's binary_logloss: 0.53525\n",
      "[400]\ttrain's auc: 0.865551\ttrain's binary_logloss: 0.475728\tvalid's auc: 0.783553\tvalid's binary_logloss: 0.509877\n",
      "Early stopping, best iteration is:\n",
      "[371]\ttrain's auc: 0.861265\ttrain's binary_logloss: 0.480665\tvalid's auc: 0.783751\tvalid's binary_logloss: 0.513018\n",
      "1\n",
      "Training until validation scores don't improve for 100 rounds\n",
      "[200]\ttrain's auc: 0.829324\ttrain's binary_logloss: 0.516342\tvalid's auc: 0.784123\tvalid's binary_logloss: 0.536345\n",
      "[400]\ttrain's auc: 0.866078\ttrain's binary_logloss: 0.47538\tvalid's auc: 0.785765\tvalid's binary_logloss: 0.51048\n",
      "Early stopping, best iteration is:\n",
      "[399]\ttrain's auc: 0.865966\ttrain's binary_logloss: 0.475513\tvalid's auc: 0.785779\tvalid's binary_logloss: 0.510558\n",
      "2\n",
      "Training until validation scores don't improve for 100 rounds\n",
      "[200]\ttrain's auc: 0.830219\ttrain's binary_logloss: 0.515115\tvalid's auc: 0.776746\tvalid's binary_logloss: 0.535632\n",
      "[400]\ttrain's auc: 0.866689\ttrain's binary_logloss: 0.474172\tvalid's auc: 0.778275\tvalid's binary_logloss: 0.509789\n",
      "Early stopping, best iteration is:\n",
      "[354]\ttrain's auc: 0.85946\ttrain's binary_logloss: 0.482465\tvalid's auc: 0.778296\tvalid's binary_logloss: 0.515065\n",
      "3\n",
      "Training until validation scores don't improve for 100 rounds\n",
      "[200]\ttrain's auc: 0.829353\ttrain's binary_logloss: 0.516471\tvalid's auc: 0.782416\tvalid's binary_logloss: 0.534854\n",
      "[400]\ttrain's auc: 0.865252\ttrain's binary_logloss: 0.476237\tvalid's auc: 0.783883\tvalid's binary_logloss: 0.508982\n",
      "Early stopping, best iteration is:\n",
      "[391]\ttrain's auc: 0.863884\ttrain's binary_logloss: 0.477834\tvalid's auc: 0.784008\tvalid's binary_logloss: 0.50993\n",
      "4\n",
      "Training until validation scores don't improve for 100 rounds\n",
      "[200]\ttrain's auc: 0.829025\ttrain's binary_logloss: 0.516576\tvalid's auc: 0.782589\tvalid's binary_logloss: 0.534324\n",
      "[400]\ttrain's auc: 0.865466\ttrain's binary_logloss: 0.475962\tvalid's auc: 0.783406\tvalid's binary_logloss: 0.508918\n",
      "Early stopping, best iteration is:\n",
      "[332]\ttrain's auc: 0.854478\ttrain's binary_logloss: 0.488391\tvalid's auc: 0.783505\tvalid's binary_logloss: 0.516768\n"
     ]
    }
   ],
   "source": [
    "submission_small, feature_importances_small, metrics_small = model(df_train_small, df_test_small)"
   ]
  },
  {
   "cell_type": "code",
   "execution_count": 79,
   "metadata": {},
   "outputs": [
    {
     "data": {
      "text/html": [
       "<div>\n",
       "<style scoped>\n",
       "    .dataframe tbody tr th:only-of-type {\n",
       "        vertical-align: middle;\n",
       "    }\n",
       "\n",
       "    .dataframe tbody tr th {\n",
       "        vertical-align: top;\n",
       "    }\n",
       "\n",
       "    .dataframe thead th {\n",
       "        text-align: right;\n",
       "    }\n",
       "</style>\n",
       "<table border=\"1\" class=\"dataframe\">\n",
       "  <thead>\n",
       "    <tr style=\"text-align: right;\">\n",
       "      <th></th>\n",
       "      <th>fold</th>\n",
       "      <th>train</th>\n",
       "      <th>valid</th>\n",
       "    </tr>\n",
       "  </thead>\n",
       "  <tbody>\n",
       "    <tr>\n",
       "      <th>0</th>\n",
       "      <td>0</td>\n",
       "      <td>0.861265</td>\n",
       "      <td>0.783751</td>\n",
       "    </tr>\n",
       "    <tr>\n",
       "      <th>1</th>\n",
       "      <td>1</td>\n",
       "      <td>0.865966</td>\n",
       "      <td>0.785779</td>\n",
       "    </tr>\n",
       "    <tr>\n",
       "      <th>2</th>\n",
       "      <td>2</td>\n",
       "      <td>0.859460</td>\n",
       "      <td>0.778296</td>\n",
       "    </tr>\n",
       "    <tr>\n",
       "      <th>3</th>\n",
       "      <td>3</td>\n",
       "      <td>0.863884</td>\n",
       "      <td>0.784008</td>\n",
       "    </tr>\n",
       "    <tr>\n",
       "      <th>4</th>\n",
       "      <td>4</td>\n",
       "      <td>0.854478</td>\n",
       "      <td>0.783505</td>\n",
       "    </tr>\n",
       "    <tr>\n",
       "      <th>5</th>\n",
       "      <td>overall</td>\n",
       "      <td>0.861011</td>\n",
       "      <td>0.783057</td>\n",
       "    </tr>\n",
       "  </tbody>\n",
       "</table>\n",
       "</div>"
      ],
      "text/plain": [
       "      fold     train     valid\n",
       "0        0  0.861265  0.783751\n",
       "1        1  0.865966  0.785779\n",
       "2        2  0.859460  0.778296\n",
       "3        3  0.863884  0.784008\n",
       "4        4  0.854478  0.783505\n",
       "5  overall  0.861011  0.783057"
      ]
     },
     "execution_count": 79,
     "metadata": {},
     "output_type": "execute_result"
    }
   ],
   "source": [
    "metrics_small"
   ]
  },
  {
   "cell_type": "code",
   "execution_count": 80,
   "metadata": {},
   "outputs": [],
   "source": [
    "submission_small.to_csv('selected_features_small_submission.csv', index = False)"
   ]
  },
  {
   "cell_type": "code",
   "execution_count": null,
   "metadata": {},
   "outputs": [],
   "source": []
  }
 ],
 "metadata": {
  "kernelspec": {
   "display_name": "Python 3",
   "language": "python",
   "name": "python3"
  },
  "language_info": {
   "codemirror_mode": {
    "name": "ipython",
    "version": 3
   },
   "file_extension": ".py",
   "mimetype": "text/x-python",
   "name": "python",
   "nbconvert_exporter": "python",
   "pygments_lexer": "ipython3",
   "version": "3.7.3"
  }
 },
 "nbformat": 4,
 "nbformat_minor": 4
}
